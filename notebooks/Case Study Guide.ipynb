{
 "cells": [
  {
   "cell_type": "markdown",
   "metadata": {
    "slideshow": {
     "slide_type": "slide"
    }
   },
   "source": [
    "    \n",
    "# Understanding and Predicting Customer Churn\n",
    "\n",
    "`A case study in prescriptive analytics`\n",
    "***"
   ]
  },
  {
   "cell_type": "markdown",
   "metadata": {
    "cell_style": "center",
    "slideshow": {
     "slide_type": "-"
    }
   },
   "source": [
    "Did you know that attracting a new customer costs five times as much as keeping an existing one? "
   ]
  },
  {
   "cell_type": "markdown",
   "metadata": {
    "cell_style": "center",
    "slideshow": {
     "slide_type": "-"
    }
   },
   "source": [
    "<img src=\"https://miro.medium.com/max/560/1*dqSLRSEC2GDV9bw_PplCYQ.png\" style=\"width=800px;height:500px\"/>"
   ]
  },
  {
   "cell_type": "markdown",
   "metadata": {
    "slideshow": {
     "slide_type": "subslide"
    }
   },
   "source": [
    "### We'll be covering:\n",
    "- `Descriptive Analytics` - What happened?\n",
    "- `Predictive Analytics` - What might happen?\n",
    "- `Prescriptive Analytics` - What should we do?\n",
    "\n",
    "\n",
    "***\n",
    "### Objective: \n",
    "- To understand what factors contributed most to employee turnover.\n",
    "- To perform clustering to find any meaningful patterns of employee traits.\n",
    "- To create a model that predicts the likelihood if a certain employee will leave the company or not. \n",
    "- To create or improve different retention strategies on targeted employees. "
   ]
  },
  {
   "cell_type": "markdown",
   "metadata": {
    "slideshow": {
     "slide_type": "slide"
    }
   },
   "source": [
    "## Table of Contents\n",
    "\n",
    "### The Problem\n",
    "- [Why is Employee Turnover a Problem?](#problem)\n",
    "\n",
    "### The Dataset\n",
    "- [Visualizing the dataset](#dataset)\n",
    "\n",
    "### Data Quality Check\n",
    "- [Simple Inspection of Data](#datacleaning)\n",
    "\n",
    "### Descriptive Statistics\n",
    "- [Summary Statistics, Turnover Rate, Size of Data](#descriptive_statistics)\n",
    "- [Correlation Matrix](#correlation_matrix)\n",
    "\n",
    "### Exploratory Data Analysis\n",
    "1. [Employee Satisfaction, Evaluation, and Project Count Distribution](#eda1)\n",
    "2. [Employee Satisfaction VS Evaluation](#eda2)\n",
    "3. [K Means Clustering of Employee](#clustering)\n",
    "4. [Employee Satisfaction Distribution](#satisfaction)\n",
    "5. [Employee Project Count Distribution](#project_count)\n",
    "6. [Employee Average Monthly Hours Distribution](#avghours)\n",
    "\n",
    "### Simple Pre-Processing\n",
    "- [Pre-Processing: Categorical and Numerical Variable](#pre_processing)\n",
    "\n",
    "### Split Train/Test Set\n",
    "- [Splitting the Data into Train/Test Sets](#train_test_split)\n",
    "\n",
    "### Class Imbalance\n",
    "- [How to Treat Class Imbalance Problems](#class_imbalance)\n",
    "\n",
    "### Resample Techniques to Treat Imbalance Data\n",
    "- [Evaluate Original, Upsampled, and Downsampled Data Metrics](#resample)\n",
    "- [Choose Which Sampling Technique to Use For Model - Upsampling](#upsampling)\n",
    "\n",
    "### Model Training and Performance (5-Fold CV)\n",
    "- [Logistic Regression Classifier](#lr)\n",
    "- [Random Forest Classifier](#rf)\n",
    "- [Gradient Boosting Classifier](#svc)\n",
    "\n",
    "### Model Evaluation (F1 Score & ROC/AUC)\n",
    "- [ROC and AUC](#roc)\n",
    "- [Feature Importance](#feature_importance)\n",
    "\n",
    "### Conclusion\n",
    "- [Retention Plan](#retention_plan)\n"
   ]
  },
  {
   "cell_type": "markdown",
   "metadata": {
    "slideshow": {
     "slide_type": "slide"
    }
   },
   "source": [
    "<a id='problem'></a>\n",
    "# The Problem\n",
    "***"
   ]
  },
  {
   "cell_type": "markdown",
   "metadata": {
    "slideshow": {
     "slide_type": "subslide"
    }
   },
   "source": [
    "One of the most common problems at work is **turnover.** \n",
    "Replacing a worker earning about **50,000 dollars** cost the company about **10,000 dollars** or 20% of that worker’s yearly income according to the Center of American Progress.\n",
    "\n",
    "\n",
    "---\n",
    "**Costs include:**\n",
    "- Cost of off-boarding \n",
    "- Cost of hiring (advertising, interviewing, hiring)\n",
    "- Cost of onboarding a new person (training, management time)\n",
    "- Lost productivity (a new person may take 1-2 years to reach the productivity of an existing person)"
   ]
  },
  {
   "cell_type": "markdown",
   "metadata": {
    "slideshow": {
     "slide_type": "subslide"
    }
   },
   "source": [
    "## Example\n",
    "\n",
    "1. Jobs (earning under 30k a year): the cost to replace a 10/hour retail employee would be **3,328 dollars**.\n",
    "2. Jobs (earning 30k-50k a year) - the cost to replace a 40k manager would be **8,000 dollars**.\n",
    "3. Jobs of executives (earning 100k+ a year) - the cost to replace a 100k CEO is **213,000 dollars**."
   ]
  },
  {
   "cell_type": "markdown",
   "metadata": {
    "slideshow": {
     "slide_type": "subslide"
    }
   },
   "source": [
    "**Annual Cost of Turnover** = (Hiring + Onboarding + Development + Unfilled Time) * Employee Count * Turnover Rate\n",
    "\n",
    "**Annual Cost of Turnover** = (\\\\$500 + \\\\$500 + \\\\$300 + \\\\$200) * 15000 * 0.24\n",
    "\n",
    "**Annual Cost of Turnover** = \\\\$1500 * 3600\n",
    "\n",
    "**Annual Cost of Turnover** = \\\\$5,400,000"
   ]
  },
  {
   "cell_type": "code",
   "execution_count": 1,
   "metadata": {
    "scrolled": true,
    "slideshow": {
     "slide_type": "-"
    }
   },
   "outputs": [
    {
     "name": "stdout",
     "output_type": "stream",
     "text": [
      "Inital Turnover Cost = $5400000\n",
      "Improved Turnover Cost = $5175000\n",
      "Difference = $225000\n"
     ]
    }
   ],
   "source": [
    "# Calculating Turnover rate improvement\n",
    "a = (500+500+300+200)*15000*0.24\n",
    "b = (500+500+300+200)*15000*0.23\n",
    "\n",
    "print (f\"Inital Turnover Cost = ${int(a)}\")\n",
    "print (f\"Improved Turnover Cost = ${int(b)}\")\n",
    "print (f\"Difference = ${int(a-b)}\")"
   ]
  },
  {
   "cell_type": "markdown",
   "metadata": {
    "slideshow": {
     "slide_type": "skip"
    }
   },
   "source": [
    "<a id='problem'></a>"
   ]
  },
  {
   "cell_type": "markdown",
   "metadata": {
    "slideshow": {
     "slide_type": "slide"
    }
   },
   "source": [
    "<a id='dataset'></a>\n",
    "# Reading the Data\n",
    "***"
   ]
  },
  {
   "cell_type": "markdown",
   "metadata": {
    "slideshow": {
     "slide_type": "subslide"
    }
   },
   "source": [
    "<img src=\"IBM.png\" style=\"width=900px;height:400px\"/>"
   ]
  },
  {
   "cell_type": "code",
   "execution_count": 2,
   "metadata": {
    "slideshow": {
     "slide_type": "skip"
    }
   },
   "outputs": [],
   "source": [
    "# Import the neccessary modules for data manipulation and visual representation\n",
    "import pandas as pd\n",
    "import numpy as np\n",
    "import matplotlib.pyplot as plt\n",
    "import matplotlib as matplot\n",
    "import seaborn as sns\n",
    "import warnings\n",
    "warnings.filterwarnings(\"ignore\")\n",
    "%matplotlib inline"
   ]
  },
  {
   "cell_type": "code",
   "execution_count": 3,
   "metadata": {
    "slideshow": {
     "slide_type": "skip"
    }
   },
   "outputs": [],
   "source": [
    "df = pd.read_csv('HR_comma_sep.csv.txt')"
   ]
  },
  {
   "cell_type": "code",
   "execution_count": 4,
   "metadata": {
    "scrolled": true,
    "slideshow": {
     "slide_type": "skip"
    }
   },
   "outputs": [
    {
     "data": {
      "text/html": [
       "<div>\n",
       "<style scoped>\n",
       "    .dataframe tbody tr th:only-of-type {\n",
       "        vertical-align: middle;\n",
       "    }\n",
       "\n",
       "    .dataframe tbody tr th {\n",
       "        vertical-align: top;\n",
       "    }\n",
       "\n",
       "    .dataframe thead th {\n",
       "        text-align: right;\n",
       "    }\n",
       "</style>\n",
       "<table border=\"1\" class=\"dataframe\">\n",
       "  <thead>\n",
       "    <tr style=\"text-align: right;\">\n",
       "      <th></th>\n",
       "      <th>satisfaction_level</th>\n",
       "      <th>last_evaluation</th>\n",
       "      <th>number_project</th>\n",
       "      <th>average_montly_hours</th>\n",
       "      <th>time_spend_company</th>\n",
       "      <th>Work_accident</th>\n",
       "      <th>left</th>\n",
       "      <th>promotion_last_5years</th>\n",
       "      <th>sales</th>\n",
       "      <th>salary</th>\n",
       "    </tr>\n",
       "  </thead>\n",
       "  <tbody>\n",
       "    <tr>\n",
       "      <th>0</th>\n",
       "      <td>0.38</td>\n",
       "      <td>0.53</td>\n",
       "      <td>2</td>\n",
       "      <td>157</td>\n",
       "      <td>3</td>\n",
       "      <td>0</td>\n",
       "      <td>1</td>\n",
       "      <td>0</td>\n",
       "      <td>sales</td>\n",
       "      <td>low</td>\n",
       "    </tr>\n",
       "    <tr>\n",
       "      <th>1</th>\n",
       "      <td>0.80</td>\n",
       "      <td>0.86</td>\n",
       "      <td>5</td>\n",
       "      <td>262</td>\n",
       "      <td>6</td>\n",
       "      <td>0</td>\n",
       "      <td>1</td>\n",
       "      <td>0</td>\n",
       "      <td>sales</td>\n",
       "      <td>medium</td>\n",
       "    </tr>\n",
       "    <tr>\n",
       "      <th>2</th>\n",
       "      <td>0.11</td>\n",
       "      <td>0.88</td>\n",
       "      <td>7</td>\n",
       "      <td>272</td>\n",
       "      <td>4</td>\n",
       "      <td>0</td>\n",
       "      <td>1</td>\n",
       "      <td>0</td>\n",
       "      <td>sales</td>\n",
       "      <td>medium</td>\n",
       "    </tr>\n",
       "    <tr>\n",
       "      <th>3</th>\n",
       "      <td>0.72</td>\n",
       "      <td>0.87</td>\n",
       "      <td>5</td>\n",
       "      <td>223</td>\n",
       "      <td>5</td>\n",
       "      <td>0</td>\n",
       "      <td>1</td>\n",
       "      <td>0</td>\n",
       "      <td>sales</td>\n",
       "      <td>low</td>\n",
       "    </tr>\n",
       "    <tr>\n",
       "      <th>4</th>\n",
       "      <td>0.37</td>\n",
       "      <td>0.52</td>\n",
       "      <td>2</td>\n",
       "      <td>159</td>\n",
       "      <td>3</td>\n",
       "      <td>0</td>\n",
       "      <td>1</td>\n",
       "      <td>0</td>\n",
       "      <td>sales</td>\n",
       "      <td>low</td>\n",
       "    </tr>\n",
       "  </tbody>\n",
       "</table>\n",
       "</div>"
      ],
      "text/plain": [
       "   satisfaction_level  last_evaluation  number_project  average_montly_hours  \\\n",
       "0                0.38             0.53               2                   157   \n",
       "1                0.80             0.86               5                   262   \n",
       "2                0.11             0.88               7                   272   \n",
       "3                0.72             0.87               5                   223   \n",
       "4                0.37             0.52               2                   159   \n",
       "\n",
       "   time_spend_company  Work_accident  left  promotion_last_5years  sales  \\\n",
       "0                   3              0     1                      0  sales   \n",
       "1                   6              0     1                      0  sales   \n",
       "2                   4              0     1                      0  sales   \n",
       "3                   5              0     1                      0  sales   \n",
       "4                   3              0     1                      0  sales   \n",
       "\n",
       "   salary  \n",
       "0     low  \n",
       "1  medium  \n",
       "2  medium  \n",
       "3     low  \n",
       "4     low  "
      ]
     },
     "execution_count": 4,
     "metadata": {},
     "output_type": "execute_result"
    }
   ],
   "source": [
    "# Examine the dataset\n",
    "df.head()"
   ]
  },
  {
   "cell_type": "code",
   "execution_count": 5,
   "metadata": {
    "slideshow": {
     "slide_type": "skip"
    }
   },
   "outputs": [],
   "source": [
    "# Rename Columns\n",
    "# Renaming certain columns for better readability\n",
    "df = df.rename(columns={'satisfaction_level': 'satisfaction', \n",
    "                        'last_evaluation': 'evaluation',\n",
    "                        'number_project': 'projectCount',\n",
    "                        'average_montly_hours': 'averageMonthlyHours',\n",
    "                        'time_spend_company': 'yearsAtCompany',\n",
    "                        'Work_accident': 'workAccident',\n",
    "                        'promotion_last_5years': 'promotion',\n",
    "                        'sales' : 'department',\n",
    "                        'left' : 'turnover'\n",
    "                        })"
   ]
  },
  {
   "cell_type": "code",
   "execution_count": 6,
   "metadata": {
    "slideshow": {
     "slide_type": "-"
    }
   },
   "outputs": [
    {
     "data": {
      "text/plain": [
       "(14999, 10)"
      ]
     },
     "execution_count": 6,
     "metadata": {},
     "output_type": "execute_result"
    }
   ],
   "source": [
    "df.shape"
   ]
  },
  {
   "cell_type": "code",
   "execution_count": 7,
   "metadata": {
    "slideshow": {
     "slide_type": "-"
    }
   },
   "outputs": [
    {
     "data": {
      "text/html": [
       "<div>\n",
       "<style scoped>\n",
       "    .dataframe tbody tr th:only-of-type {\n",
       "        vertical-align: middle;\n",
       "    }\n",
       "\n",
       "    .dataframe tbody tr th {\n",
       "        vertical-align: top;\n",
       "    }\n",
       "\n",
       "    .dataframe thead th {\n",
       "        text-align: right;\n",
       "    }\n",
       "</style>\n",
       "<table border=\"1\" class=\"dataframe\">\n",
       "  <thead>\n",
       "    <tr style=\"text-align: right;\">\n",
       "      <th></th>\n",
       "      <th>satisfaction</th>\n",
       "      <th>evaluation</th>\n",
       "      <th>projectCount</th>\n",
       "      <th>averageMonthlyHours</th>\n",
       "      <th>yearsAtCompany</th>\n",
       "      <th>workAccident</th>\n",
       "      <th>turnover</th>\n",
       "      <th>promotion</th>\n",
       "      <th>department</th>\n",
       "      <th>salary</th>\n",
       "    </tr>\n",
       "  </thead>\n",
       "  <tbody>\n",
       "    <tr>\n",
       "      <th>0</th>\n",
       "      <td>0.38</td>\n",
       "      <td>0.53</td>\n",
       "      <td>2</td>\n",
       "      <td>157</td>\n",
       "      <td>3</td>\n",
       "      <td>0</td>\n",
       "      <td>1</td>\n",
       "      <td>0</td>\n",
       "      <td>sales</td>\n",
       "      <td>low</td>\n",
       "    </tr>\n",
       "    <tr>\n",
       "      <th>1</th>\n",
       "      <td>0.80</td>\n",
       "      <td>0.86</td>\n",
       "      <td>5</td>\n",
       "      <td>262</td>\n",
       "      <td>6</td>\n",
       "      <td>0</td>\n",
       "      <td>1</td>\n",
       "      <td>0</td>\n",
       "      <td>sales</td>\n",
       "      <td>medium</td>\n",
       "    </tr>\n",
       "    <tr>\n",
       "      <th>2</th>\n",
       "      <td>0.11</td>\n",
       "      <td>0.88</td>\n",
       "      <td>7</td>\n",
       "      <td>272</td>\n",
       "      <td>4</td>\n",
       "      <td>0</td>\n",
       "      <td>1</td>\n",
       "      <td>0</td>\n",
       "      <td>sales</td>\n",
       "      <td>medium</td>\n",
       "    </tr>\n",
       "    <tr>\n",
       "      <th>3</th>\n",
       "      <td>0.72</td>\n",
       "      <td>0.87</td>\n",
       "      <td>5</td>\n",
       "      <td>223</td>\n",
       "      <td>5</td>\n",
       "      <td>0</td>\n",
       "      <td>1</td>\n",
       "      <td>0</td>\n",
       "      <td>sales</td>\n",
       "      <td>low</td>\n",
       "    </tr>\n",
       "    <tr>\n",
       "      <th>4</th>\n",
       "      <td>0.37</td>\n",
       "      <td>0.52</td>\n",
       "      <td>2</td>\n",
       "      <td>159</td>\n",
       "      <td>3</td>\n",
       "      <td>0</td>\n",
       "      <td>1</td>\n",
       "      <td>0</td>\n",
       "      <td>sales</td>\n",
       "      <td>low</td>\n",
       "    </tr>\n",
       "  </tbody>\n",
       "</table>\n",
       "</div>"
      ],
      "text/plain": [
       "   satisfaction  evaluation  projectCount  averageMonthlyHours  \\\n",
       "0          0.38        0.53             2                  157   \n",
       "1          0.80        0.86             5                  262   \n",
       "2          0.11        0.88             7                  272   \n",
       "3          0.72        0.87             5                  223   \n",
       "4          0.37        0.52             2                  159   \n",
       "\n",
       "   yearsAtCompany  workAccident  turnover  promotion department  salary  \n",
       "0               3             0         1          0      sales     low  \n",
       "1               6             0         1          0      sales  medium  \n",
       "2               4             0         1          0      sales  medium  \n",
       "3               5             0         1          0      sales     low  \n",
       "4               3             0         1          0      sales     low  "
      ]
     },
     "execution_count": 7,
     "metadata": {},
     "output_type": "execute_result"
    }
   ],
   "source": [
    "df.head()"
   ]
  },
  {
   "cell_type": "code",
   "execution_count": 8,
   "metadata": {
    "slideshow": {
     "slide_type": "subslide"
    }
   },
   "outputs": [
    {
     "data": {
      "text/plain": [
       "0    0.76\n",
       "1    0.24\n",
       "Name: turnover, dtype: float64"
      ]
     },
     "execution_count": 8,
     "metadata": {},
     "output_type": "execute_result"
    }
   ],
   "source": [
    "round(df.turnover.value_counts(1), 2)"
   ]
  },
  {
   "cell_type": "markdown",
   "metadata": {
    "cell_style": "split",
    "slideshow": {
     "slide_type": "-"
    }
   },
   "source": [
    "<img src=\"employee_turnover.png\" style=\"width=900px;height:600px\"/>"
   ]
  },
  {
   "cell_type": "code",
   "execution_count": 9,
   "metadata": {
    "slideshow": {
     "slide_type": "skip"
    }
   },
   "outputs": [
    {
     "data": {
      "image/png": "[encoded data removed]",
      "text/plain": [
       "<Figure size 864x576 with 1 Axes>"
      ]
     },
     "metadata": {
      "needs_background": "light"
     },
     "output_type": "display_data"
    }
   ],
   "source": [
    "plt.figure(figsize=(12,8))\n",
    "turnover = df.turnover.value_counts()\n",
    "sns.barplot(y=turnover.values, x=turnover.index, alpha=0.6)\n",
    "plt.title('Distribution of Employee Turnover')\n",
    "plt.xlabel('Employee Turnover', fontsize=16)\n",
    "plt.ylabel('Count', fontsize=16);"
   ]
  },
  {
   "cell_type": "markdown",
   "metadata": {
    "slideshow": {
     "slide_type": "slide"
    }
   },
   "source": [
    "<a id='datacleaning'></a>\n",
    "# Data Quality Check\n",
    "***"
   ]
  },
  {
   "cell_type": "code",
   "execution_count": 10,
   "metadata": {
    "slideshow": {
     "slide_type": "subslide"
    }
   },
   "outputs": [
    {
     "data": {
      "text/plain": [
       "satisfaction           False\n",
       "evaluation             False\n",
       "projectCount           False\n",
       "averageMonthlyHours    False\n",
       "yearsAtCompany         False\n",
       "workAccident           False\n",
       "turnover               False\n",
       "promotion              False\n",
       "department             False\n",
       "salary                 False\n",
       "dtype: bool"
      ]
     },
     "execution_count": 10,
     "metadata": {},
     "output_type": "execute_result"
    }
   ],
   "source": [
    "# Can you check to see if there are any missing values in our data set\n",
    "df.isnull().any()"
   ]
  },
  {
   "cell_type": "code",
   "execution_count": 11,
   "metadata": {
    "slideshow": {
     "slide_type": "subslide"
    }
   },
   "outputs": [
    {
     "data": {
      "text/plain": [
       "satisfaction           float64\n",
       "evaluation             float64\n",
       "projectCount             int64\n",
       "averageMonthlyHours      int64\n",
       "yearsAtCompany           int64\n",
       "workAccident             int64\n",
       "turnover                 int64\n",
       "promotion                int64\n",
       "department              object\n",
       "salary                  object\n",
       "dtype: object"
      ]
     },
     "execution_count": 11,
     "metadata": {},
     "output_type": "execute_result"
    }
   ],
   "source": [
    "# Check the type of our features. Are there any data inconsistencies?\n",
    "df.dtypes"
   ]
  },
  {
   "cell_type": "markdown",
   "metadata": {
    "slideshow": {
     "slide_type": "slide"
    }
   },
   "source": [
    "<a id='descriptive_statistics'></a>\n",
    "# Exploratory Data Analysis\n",
    "***"
   ]
  },
  {
   "cell_type": "code",
   "execution_count": 12,
   "metadata": {
    "slideshow": {
     "slide_type": "subslide"
    }
   },
   "outputs": [
    {
     "data": {
      "text/html": [
       "<div>\n",
       "<style scoped>\n",
       "    .dataframe tbody tr th:only-of-type {\n",
       "        vertical-align: middle;\n",
       "    }\n",
       "\n",
       "    .dataframe tbody tr th {\n",
       "        vertical-align: top;\n",
       "    }\n",
       "\n",
       "    .dataframe thead th {\n",
       "        text-align: right;\n",
       "    }\n",
       "</style>\n",
       "<table border=\"1\" class=\"dataframe\">\n",
       "  <thead>\n",
       "    <tr style=\"text-align: right;\">\n",
       "      <th></th>\n",
       "      <th>satisfaction</th>\n",
       "      <th>evaluation</th>\n",
       "      <th>projectCount</th>\n",
       "      <th>averageMonthlyHours</th>\n",
       "      <th>yearsAtCompany</th>\n",
       "      <th>workAccident</th>\n",
       "      <th>turnover</th>\n",
       "      <th>promotion</th>\n",
       "    </tr>\n",
       "  </thead>\n",
       "  <tbody>\n",
       "    <tr>\n",
       "      <th>count</th>\n",
       "      <td>14999.00</td>\n",
       "      <td>14999.00</td>\n",
       "      <td>14999.00</td>\n",
       "      <td>14999.00</td>\n",
       "      <td>14999.00</td>\n",
       "      <td>14999.00</td>\n",
       "      <td>14999.00</td>\n",
       "      <td>14999.00</td>\n",
       "    </tr>\n",
       "    <tr>\n",
       "      <th>mean</th>\n",
       "      <td>0.61</td>\n",
       "      <td>0.72</td>\n",
       "      <td>3.80</td>\n",
       "      <td>201.05</td>\n",
       "      <td>3.50</td>\n",
       "      <td>0.14</td>\n",
       "      <td>0.24</td>\n",
       "      <td>0.02</td>\n",
       "    </tr>\n",
       "    <tr>\n",
       "      <th>std</th>\n",
       "      <td>0.25</td>\n",
       "      <td>0.17</td>\n",
       "      <td>1.23</td>\n",
       "      <td>49.94</td>\n",
       "      <td>1.46</td>\n",
       "      <td>0.35</td>\n",
       "      <td>0.43</td>\n",
       "      <td>0.14</td>\n",
       "    </tr>\n",
       "    <tr>\n",
       "      <th>min</th>\n",
       "      <td>0.09</td>\n",
       "      <td>0.36</td>\n",
       "      <td>2.00</td>\n",
       "      <td>96.00</td>\n",
       "      <td>2.00</td>\n",
       "      <td>0.00</td>\n",
       "      <td>0.00</td>\n",
       "      <td>0.00</td>\n",
       "    </tr>\n",
       "    <tr>\n",
       "      <th>25%</th>\n",
       "      <td>0.44</td>\n",
       "      <td>0.56</td>\n",
       "      <td>3.00</td>\n",
       "      <td>156.00</td>\n",
       "      <td>3.00</td>\n",
       "      <td>0.00</td>\n",
       "      <td>0.00</td>\n",
       "      <td>0.00</td>\n",
       "    </tr>\n",
       "    <tr>\n",
       "      <th>50%</th>\n",
       "      <td>0.64</td>\n",
       "      <td>0.72</td>\n",
       "      <td>4.00</td>\n",
       "      <td>200.00</td>\n",
       "      <td>3.00</td>\n",
       "      <td>0.00</td>\n",
       "      <td>0.00</td>\n",
       "      <td>0.00</td>\n",
       "    </tr>\n",
       "    <tr>\n",
       "      <th>75%</th>\n",
       "      <td>0.82</td>\n",
       "      <td>0.87</td>\n",
       "      <td>5.00</td>\n",
       "      <td>245.00</td>\n",
       "      <td>4.00</td>\n",
       "      <td>0.00</td>\n",
       "      <td>0.00</td>\n",
       "      <td>0.00</td>\n",
       "    </tr>\n",
       "    <tr>\n",
       "      <th>max</th>\n",
       "      <td>1.00</td>\n",
       "      <td>1.00</td>\n",
       "      <td>7.00</td>\n",
       "      <td>310.00</td>\n",
       "      <td>10.00</td>\n",
       "      <td>1.00</td>\n",
       "      <td>1.00</td>\n",
       "      <td>1.00</td>\n",
       "    </tr>\n",
       "  </tbody>\n",
       "</table>\n",
       "</div>"
      ],
      "text/plain": [
       "       satisfaction  evaluation  projectCount  averageMonthlyHours  \\\n",
       "count      14999.00    14999.00      14999.00             14999.00   \n",
       "mean           0.61        0.72          3.80               201.05   \n",
       "std            0.25        0.17          1.23                49.94   \n",
       "min            0.09        0.36          2.00                96.00   \n",
       "25%            0.44        0.56          3.00               156.00   \n",
       "50%            0.64        0.72          4.00               200.00   \n",
       "75%            0.82        0.87          5.00               245.00   \n",
       "max            1.00        1.00          7.00               310.00   \n",
       "\n",
       "       yearsAtCompany  workAccident  turnover  promotion  \n",
       "count        14999.00      14999.00  14999.00   14999.00  \n",
       "mean             3.50          0.14      0.24       0.02  \n",
       "std              1.46          0.35      0.43       0.14  \n",
       "min              2.00          0.00      0.00       0.00  \n",
       "25%              3.00          0.00      0.00       0.00  \n",
       "50%              3.00          0.00      0.00       0.00  \n",
       "75%              4.00          0.00      0.00       0.00  \n",
       "max             10.00          1.00      1.00       1.00  "
      ]
     },
     "execution_count": 12,
     "metadata": {},
     "output_type": "execute_result"
    }
   ],
   "source": [
    "# Display the statistical overview of the employees\n",
    "round(df.describe(), 2)"
   ]
  },
  {
   "cell_type": "code",
   "execution_count": 13,
   "metadata": {
    "slideshow": {
     "slide_type": "subslide"
    }
   },
   "outputs": [],
   "source": [
    "# Display the mean summary of Employees (Turnover V.S. Non-turnover). What do you notice between the groups?\n",
    "turnover_Summary = df.groupby('turnover')"
   ]
  },
  {
   "cell_type": "code",
   "execution_count": 14,
   "metadata": {
    "scrolled": true,
    "slideshow": {
     "slide_type": "-"
    }
   },
   "outputs": [
    {
     "data": {
      "text/html": [
       "<div>\n",
       "<style scoped>\n",
       "    .dataframe tbody tr th:only-of-type {\n",
       "        vertical-align: middle;\n",
       "    }\n",
       "\n",
       "    .dataframe tbody tr th {\n",
       "        vertical-align: top;\n",
       "    }\n",
       "\n",
       "    .dataframe thead th {\n",
       "        text-align: right;\n",
       "    }\n",
       "</style>\n",
       "<table border=\"1\" class=\"dataframe\">\n",
       "  <thead>\n",
       "    <tr style=\"text-align: right;\">\n",
       "      <th></th>\n",
       "      <th>satisfaction</th>\n",
       "      <th>evaluation</th>\n",
       "      <th>projectCount</th>\n",
       "      <th>averageMonthlyHours</th>\n",
       "      <th>yearsAtCompany</th>\n",
       "      <th>workAccident</th>\n",
       "      <th>promotion</th>\n",
       "    </tr>\n",
       "    <tr>\n",
       "      <th>turnover</th>\n",
       "      <th></th>\n",
       "      <th></th>\n",
       "      <th></th>\n",
       "      <th></th>\n",
       "      <th></th>\n",
       "      <th></th>\n",
       "      <th></th>\n",
       "    </tr>\n",
       "  </thead>\n",
       "  <tbody>\n",
       "    <tr>\n",
       "      <th>0</th>\n",
       "      <td>0.67</td>\n",
       "      <td>0.72</td>\n",
       "      <td>3.79</td>\n",
       "      <td>199.06</td>\n",
       "      <td>3.38</td>\n",
       "      <td>0.18</td>\n",
       "      <td>0.03</td>\n",
       "    </tr>\n",
       "    <tr>\n",
       "      <th>1</th>\n",
       "      <td>0.44</td>\n",
       "      <td>0.72</td>\n",
       "      <td>3.86</td>\n",
       "      <td>207.42</td>\n",
       "      <td>3.88</td>\n",
       "      <td>0.05</td>\n",
       "      <td>0.01</td>\n",
       "    </tr>\n",
       "  </tbody>\n",
       "</table>\n",
       "</div>"
      ],
      "text/plain": [
       "          satisfaction  evaluation  projectCount  averageMonthlyHours  \\\n",
       "turnover                                                                \n",
       "0                 0.67        0.72          3.79               199.06   \n",
       "1                 0.44        0.72          3.86               207.42   \n",
       "\n",
       "          yearsAtCompany  workAccident  promotion  \n",
       "turnover                                           \n",
       "0                   3.38          0.18       0.03  \n",
       "1                   3.88          0.05       0.01  "
      ]
     },
     "execution_count": 14,
     "metadata": {},
     "output_type": "execute_result"
    }
   ],
   "source": [
    "round(turnover_Summary.mean(), 2)"
   ]
  },
  {
   "cell_type": "code",
   "execution_count": 15,
   "metadata": {
    "slideshow": {
     "slide_type": "-"
    }
   },
   "outputs": [
    {
     "data": {
      "text/html": [
       "<div>\n",
       "<style scoped>\n",
       "    .dataframe tbody tr th:only-of-type {\n",
       "        vertical-align: middle;\n",
       "    }\n",
       "\n",
       "    .dataframe tbody tr th {\n",
       "        vertical-align: top;\n",
       "    }\n",
       "\n",
       "    .dataframe thead th {\n",
       "        text-align: right;\n",
       "    }\n",
       "</style>\n",
       "<table border=\"1\" class=\"dataframe\">\n",
       "  <thead>\n",
       "    <tr style=\"text-align: right;\">\n",
       "      <th></th>\n",
       "      <th>satisfaction</th>\n",
       "      <th>evaluation</th>\n",
       "      <th>projectCount</th>\n",
       "      <th>averageMonthlyHours</th>\n",
       "      <th>yearsAtCompany</th>\n",
       "      <th>workAccident</th>\n",
       "      <th>promotion</th>\n",
       "    </tr>\n",
       "    <tr>\n",
       "      <th>turnover</th>\n",
       "      <th></th>\n",
       "      <th></th>\n",
       "      <th></th>\n",
       "      <th></th>\n",
       "      <th></th>\n",
       "      <th></th>\n",
       "      <th></th>\n",
       "    </tr>\n",
       "  </thead>\n",
       "  <tbody>\n",
       "    <tr>\n",
       "      <th>0</th>\n",
       "      <td>0.22</td>\n",
       "      <td>0.16</td>\n",
       "      <td>0.98</td>\n",
       "      <td>45.68</td>\n",
       "      <td>1.56</td>\n",
       "      <td>0.38</td>\n",
       "      <td>0.16</td>\n",
       "    </tr>\n",
       "    <tr>\n",
       "      <th>1</th>\n",
       "      <td>0.26</td>\n",
       "      <td>0.20</td>\n",
       "      <td>1.82</td>\n",
       "      <td>61.20</td>\n",
       "      <td>0.98</td>\n",
       "      <td>0.21</td>\n",
       "      <td>0.07</td>\n",
       "    </tr>\n",
       "  </tbody>\n",
       "</table>\n",
       "</div>"
      ],
      "text/plain": [
       "          satisfaction  evaluation  projectCount  averageMonthlyHours  \\\n",
       "turnover                                                                \n",
       "0                 0.22        0.16          0.98                45.68   \n",
       "1                 0.26        0.20          1.82                61.20   \n",
       "\n",
       "          yearsAtCompany  workAccident  promotion  \n",
       "turnover                                           \n",
       "0                   1.56          0.38       0.16  \n",
       "1                   0.98          0.21       0.07  "
      ]
     },
     "execution_count": 15,
     "metadata": {},
     "output_type": "execute_result"
    }
   ],
   "source": [
    "round(turnover_Summary.std(), 2)"
   ]
  },
  {
   "cell_type": "markdown",
   "metadata": {
    "slideshow": {
     "slide_type": "subslide"
    }
   },
   "source": [
    "<a id='correlation_matrix'></a>\n",
    "### Correlation Matrix"
   ]
  },
  {
   "cell_type": "markdown",
   "metadata": {
    "cell_style": "split",
    "slideshow": {
     "slide_type": "-"
    }
   },
   "source": [
    "<img src=\"heatmap.png\" style=\"width=900px;height:600px\"/>"
   ]
  },
  {
   "cell_type": "code",
   "execution_count": 16,
   "metadata": {
    "slideshow": {
     "slide_type": "skip"
    }
   },
   "outputs": [
    {
     "data": {
      "text/html": [
       "<div>\n",
       "<style scoped>\n",
       "    .dataframe tbody tr th:only-of-type {\n",
       "        vertical-align: middle;\n",
       "    }\n",
       "\n",
       "    .dataframe tbody tr th {\n",
       "        vertical-align: top;\n",
       "    }\n",
       "\n",
       "    .dataframe thead th {\n",
       "        text-align: right;\n",
       "    }\n",
       "</style>\n",
       "<table border=\"1\" class=\"dataframe\">\n",
       "  <thead>\n",
       "    <tr style=\"text-align: right;\">\n",
       "      <th></th>\n",
       "      <th>satisfaction</th>\n",
       "      <th>evaluation</th>\n",
       "      <th>projectCount</th>\n",
       "      <th>averageMonthlyHours</th>\n",
       "      <th>yearsAtCompany</th>\n",
       "      <th>workAccident</th>\n",
       "      <th>turnover</th>\n",
       "      <th>promotion</th>\n",
       "    </tr>\n",
       "  </thead>\n",
       "  <tbody>\n",
       "    <tr>\n",
       "      <th>satisfaction</th>\n",
       "      <td>1.000000</td>\n",
       "      <td>0.105021</td>\n",
       "      <td>-0.142970</td>\n",
       "      <td>-0.020048</td>\n",
       "      <td>-0.100866</td>\n",
       "      <td>0.058697</td>\n",
       "      <td>-0.388375</td>\n",
       "      <td>0.025605</td>\n",
       "    </tr>\n",
       "    <tr>\n",
       "      <th>evaluation</th>\n",
       "      <td>0.105021</td>\n",
       "      <td>1.000000</td>\n",
       "      <td>0.349333</td>\n",
       "      <td>0.339742</td>\n",
       "      <td>0.131591</td>\n",
       "      <td>-0.007104</td>\n",
       "      <td>0.006567</td>\n",
       "      <td>-0.008684</td>\n",
       "    </tr>\n",
       "    <tr>\n",
       "      <th>projectCount</th>\n",
       "      <td>-0.142970</td>\n",
       "      <td>0.349333</td>\n",
       "      <td>1.000000</td>\n",
       "      <td>0.417211</td>\n",
       "      <td>0.196786</td>\n",
       "      <td>-0.004741</td>\n",
       "      <td>0.023787</td>\n",
       "      <td>-0.006064</td>\n",
       "    </tr>\n",
       "    <tr>\n",
       "      <th>averageMonthlyHours</th>\n",
       "      <td>-0.020048</td>\n",
       "      <td>0.339742</td>\n",
       "      <td>0.417211</td>\n",
       "      <td>1.000000</td>\n",
       "      <td>0.127755</td>\n",
       "      <td>-0.010143</td>\n",
       "      <td>0.071287</td>\n",
       "      <td>-0.003544</td>\n",
       "    </tr>\n",
       "    <tr>\n",
       "      <th>yearsAtCompany</th>\n",
       "      <td>-0.100866</td>\n",
       "      <td>0.131591</td>\n",
       "      <td>0.196786</td>\n",
       "      <td>0.127755</td>\n",
       "      <td>1.000000</td>\n",
       "      <td>0.002120</td>\n",
       "      <td>0.144822</td>\n",
       "      <td>0.067433</td>\n",
       "    </tr>\n",
       "    <tr>\n",
       "      <th>workAccident</th>\n",
       "      <td>0.058697</td>\n",
       "      <td>-0.007104</td>\n",
       "      <td>-0.004741</td>\n",
       "      <td>-0.010143</td>\n",
       "      <td>0.002120</td>\n",
       "      <td>1.000000</td>\n",
       "      <td>-0.154622</td>\n",
       "      <td>0.039245</td>\n",
       "    </tr>\n",
       "    <tr>\n",
       "      <th>turnover</th>\n",
       "      <td>-0.388375</td>\n",
       "      <td>0.006567</td>\n",
       "      <td>0.023787</td>\n",
       "      <td>0.071287</td>\n",
       "      <td>0.144822</td>\n",
       "      <td>-0.154622</td>\n",
       "      <td>1.000000</td>\n",
       "      <td>-0.061788</td>\n",
       "    </tr>\n",
       "    <tr>\n",
       "      <th>promotion</th>\n",
       "      <td>0.025605</td>\n",
       "      <td>-0.008684</td>\n",
       "      <td>-0.006064</td>\n",
       "      <td>-0.003544</td>\n",
       "      <td>0.067433</td>\n",
       "      <td>0.039245</td>\n",
       "      <td>-0.061788</td>\n",
       "      <td>1.000000</td>\n",
       "    </tr>\n",
       "  </tbody>\n",
       "</table>\n",
       "</div>"
      ],
      "text/plain": [
       "                     satisfaction  evaluation  projectCount  \\\n",
       "satisfaction             1.000000    0.105021     -0.142970   \n",
       "evaluation               0.105021    1.000000      0.349333   \n",
       "projectCount            -0.142970    0.349333      1.000000   \n",
       "averageMonthlyHours     -0.020048    0.339742      0.417211   \n",
       "yearsAtCompany          -0.100866    0.131591      0.196786   \n",
       "workAccident             0.058697   -0.007104     -0.004741   \n",
       "turnover                -0.388375    0.006567      0.023787   \n",
       "promotion                0.025605   -0.008684     -0.006064   \n",
       "\n",
       "                     averageMonthlyHours  yearsAtCompany  workAccident  \\\n",
       "satisfaction                   -0.020048       -0.100866      0.058697   \n",
       "evaluation                      0.339742        0.131591     -0.007104   \n",
       "projectCount                    0.417211        0.196786     -0.004741   \n",
       "averageMonthlyHours             1.000000        0.127755     -0.010143   \n",
       "yearsAtCompany                  0.127755        1.000000      0.002120   \n",
       "workAccident                   -0.010143        0.002120      1.000000   \n",
       "turnover                        0.071287        0.144822     -0.154622   \n",
       "promotion                      -0.003544        0.067433      0.039245   \n",
       "\n",
       "                     turnover  promotion  \n",
       "satisfaction        -0.388375   0.025605  \n",
       "evaluation           0.006567  -0.008684  \n",
       "projectCount         0.023787  -0.006064  \n",
       "averageMonthlyHours  0.071287  -0.003544  \n",
       "yearsAtCompany       0.144822   0.067433  \n",
       "workAccident        -0.154622   0.039245  \n",
       "turnover             1.000000  -0.061788  \n",
       "promotion           -0.061788   1.000000  "
      ]
     },
     "execution_count": 16,
     "metadata": {},
     "output_type": "execute_result"
    }
   ],
   "source": [
    "# Create a correlation matrix. What features correlate the most with turnover? What other correlations did you find?\n",
    "corr = df.corr()\n",
    "corr"
   ]
  },
  {
   "cell_type": "code",
   "execution_count": 17,
   "metadata": {
    "scrolled": false,
    "slideshow": {
     "slide_type": "skip"
    }
   },
   "outputs": [
    {
     "data": {
      "image/png": "[encoded data removed]",
      "text/plain": [
       "<Figure size 1080x720 with 2 Axes>"
      ]
     },
     "metadata": {
      "needs_background": "light"
     },
     "output_type": "display_data"
    }
   ],
   "source": [
    "plt.figure(figsize=(15,10))\n",
    "sns.heatmap(corr, xticklabels=corr.columns.values, yticklabels=corr.columns.values, annot=True)\n",
    "plt.title('Heatmap of Correlation Matrix');"
   ]
  },
  {
   "cell_type": "markdown",
   "metadata": {
    "slideshow": {
     "slide_type": "subslide"
    }
   },
   "source": [
    "<a id='eda1'></a>\n",
    "# EDA 1. \n",
    "## Distribution of Satisfaction, Evaluation, and Monthly Hours"
   ]
  },
  {
   "cell_type": "markdown",
   "metadata": {
    "cell_style": "split",
    "slideshow": {
     "slide_type": "-"
    }
   },
   "source": [
    "<img src=\"Employee Satisfaction.png\" style=\"width:800px;height:500px\"/>"
   ]
  },
  {
   "cell_type": "code",
   "execution_count": 18,
   "metadata": {
    "scrolled": false,
    "slideshow": {
     "slide_type": "skip"
    }
   },
   "outputs": [
    {
     "data": {
      "image/png": "[encoded data removed]",
      "text/plain": [
       "<Figure size 1152x576 with 3 Axes>"
      ]
     },
     "metadata": {
      "needs_background": "light"
     },
     "output_type": "display_data"
    }
   ],
   "source": [
    "# Plot the distribution of Employee Satisfaction, Evaluation, and Project Count. What story can you tell?\n",
    "\n",
    "# Set up the matplotlib figure\n",
    "f, axes = plt.subplots(ncols=3, figsize=(16, 8))\n",
    "\n",
    "# Graph Employee Satisfaction\n",
    "sns.distplot(df.satisfaction, kde=False, color=\"g\", ax=axes[0]).set_title('Employee Satisfaction Distribution')\n",
    "axes[0].set_ylabel('Employee Count');\n",
    "\n",
    "# Graph Employee Evaluation\n",
    "sns.distplot(df.evaluation, kde=False, color=\"r\", ax=axes[1]).set_title('Employee Evaluation Distribution')\n",
    "axes[1].set_ylabel('Employee Count');\n",
    "\n",
    "# Graph Employee Average Monthly Hours\n",
    "sns.distplot(df.averageMonthlyHours, kde=False, color=\"b\", ax=axes[2]).set_title('Employee Average Monthly Hours Distribution')\n",
    "axes[2].set_ylabel('Employee Count');"
   ]
  },
  {
   "cell_type": "markdown",
   "metadata": {
    "slideshow": {
     "slide_type": "subslide"
    }
   },
   "source": [
    "<a id='eda2'></a>\n",
    "# EDA 2.\n",
    "## Satisfaction VS Evaluation"
   ]
  },
  {
   "cell_type": "markdown",
   "metadata": {
    "cell_style": "split",
    "slideshow": {
     "slide_type": "-"
    }
   },
   "source": [
    "<img src=\"satisfaction_vs_evaluation.png\" style=\"width=800px;height:500px\"/>"
   ]
  },
  {
   "cell_type": "markdown",
   "metadata": {
    "cell_style": "split",
    "slideshow": {
     "slide_type": "-"
    }
   },
   "source": [
    "<img src=\"clusters.png\" style=\"width=800px;height:500px\"/>"
   ]
  },
  {
   "cell_type": "markdown",
   "metadata": {
    "slideshow": {
     "slide_type": "skip"
    }
   },
   "source": [
    "`There are 3 distinct clusters for employees who left the company`\n",
    " \n",
    "**Cluster 1 (Hard-working and Sad Employee):** Satisfaction was below 0.2 and evaluations were greater than 0.75. Which could be a good indication that employees who left the company were good workers but felt horrible at their job. \n",
    " - **Question:** What could be the reason for feeling so horrible when you are highly evaluated? Could it be working too hard? Could this cluster mean employees who are \"overworked\"?\n",
    "\n",
    "**Cluster 2 (Bad and Sad Employee):** Satisfaction between about 0.35~0.45 and evaluations below ~0.58. This could be seen as employees who were badly evaluated and felt bad at work.\n",
    " - **Question:** Could this cluster mean employees who \"under-performed\"?\n",
    "\n",
    "**Cluster 3 (Hard-working and Happy Employee):** Satisfaction between 0.7~1.0 and evaluations were greater than 0.8. Which could mean that employees in this cluster were \"ideal\". They loved their work and were evaluated highly for their performance. \n",
    " - **Question:** Could this cluser mean that employees left because they found another job opportunity?"
   ]
  },
  {
   "cell_type": "code",
   "execution_count": 19,
   "metadata": {
    "scrolled": false,
    "slideshow": {
     "slide_type": "skip"
    }
   },
   "outputs": [
    {
     "data": {
      "text/plain": [
       "<Figure size 1080x720 with 0 Axes>"
      ]
     },
     "metadata": {},
     "output_type": "display_data"
    },
    {
     "data": {
      "image/png": "[encoded data removed]",
      "text/plain": [
       "<Figure size 410.75x360 with 1 Axes>"
      ]
     },
     "metadata": {
      "needs_background": "light"
     },
     "output_type": "display_data"
    }
   ],
   "source": [
    "plt.figure(figsize=(15,10))\n",
    "sns.lmplot(x='satisfaction', y='evaluation', data=df, fit_reg=False, hue='turnover') # Color by turnover value\n",
    "plt.title('Satisfaction VS Evaluation');"
   ]
  },
  {
   "cell_type": "markdown",
   "metadata": {
    "slideshow": {
     "slide_type": "skip"
    }
   },
   "source": [
    "<a id='clustering'></a>\n",
    "##  K-Means Clustering of Employee Turnover\n",
    "***"
   ]
  },
  {
   "cell_type": "markdown",
   "metadata": {
    "cell_style": "center",
    "slideshow": {
     "slide_type": "skip"
    }
   },
   "source": [
    "**Cluster 1 (Blue):** Hard-working and Sad Employees\n",
    "\n",
    "**Cluster 2 (Red):** Bad and Sad Employee \n",
    "\n",
    "**Cluster 3 (Green):** Hard-working and Happy Employee "
   ]
  },
  {
   "cell_type": "code",
   "execution_count": 20,
   "metadata": {
    "slideshow": {
     "slide_type": "skip"
    }
   },
   "outputs": [
    {
     "data": {
      "image/png": "[encoded data removed]",
      "text/plain": [
       "<Figure size 720x432 with 1 Axes>"
      ]
     },
     "metadata": {
      "needs_background": "light"
     },
     "output_type": "display_data"
    }
   ],
   "source": [
    "# Import KMeans Model\n",
    "from sklearn.cluster import KMeans\n",
    "\n",
    "# Graph and create 3 clusters of Employee Turnover\n",
    "kmeans = KMeans(n_clusters=3,random_state=2)\n",
    "kmeans.fit(df[df.turnover==1][[\"satisfaction\",\"evaluation\"]])\n",
    "\n",
    "kmeans_colors = ['green' if c == 0 else 'blue' if c == 2 else 'red' for c in kmeans.labels_]\n",
    "\n",
    "fig = plt.figure(figsize=(10, 6))\n",
    "plt.scatter(x=\"satisfaction\",y=\"evaluation\", data=df[df.turnover==1],\n",
    "            alpha=0.25,color = kmeans_colors)\n",
    "plt.xlabel(\"Satisfaction\")\n",
    "plt.ylabel(\"Evaluation\")\n",
    "plt.scatter(x=kmeans.cluster_centers_[:,0],y=kmeans.cluster_centers_[:,1],color=\"black\",marker=\"X\",s=100)\n",
    "plt.title(\"Clusters of Employee Turnover\")\n",
    "\n",
    "plt.show();"
   ]
  },
  {
   "cell_type": "markdown",
   "metadata": {
    "slideshow": {
     "slide_type": "subslide"
    }
   },
   "source": [
    "<a id='satisfaction'></a>\n",
    "### EDA 3. Employee Satisfaction"
   ]
  },
  {
   "cell_type": "markdown",
   "metadata": {
    "cell_style": "split",
    "slideshow": {
     "slide_type": "-"
    }
   },
   "source": [
    "<img src=\"Employee Satisfaction Distribution.png\" style=\"width=800px;height:500px\"/>"
   ]
  },
  {
   "cell_type": "markdown",
   "metadata": {
    "cell_style": "split",
    "slideshow": {
     "slide_type": "-"
    }
   },
   "source": [
    "There is a **tri-modal** distribution for employees that turnovered\n",
    "- Employees who had really low satisfaction levels **(0.2 or less)** left the company more\n",
    "- Employees who had low satisfaction levels **(0.3~0.5)** left the company more\n",
    "- Employees who had really high satisfaction levels **(0.7 or more)** left the company more"
   ]
  },
  {
   "cell_type": "code",
   "execution_count": 21,
   "metadata": {
    "cell_style": "center",
    "scrolled": false,
    "slideshow": {
     "slide_type": "skip"
    }
   },
   "outputs": [
    {
     "data": {
      "image/png": "[encoded data removed]",
      "text/plain": [
       "<Figure size 1440x720 with 1 Axes>"
      ]
     },
     "metadata": {
      "needs_background": "light"
     },
     "output_type": "display_data"
    }
   ],
   "source": [
    "#KDEPlot: Kernel Density Estimate Plot\n",
    "fig = plt.figure(figsize=(20,10))\n",
    "ax=sns.kdeplot(df.loc[(df['turnover'] == 0),'satisfaction'] , color='b',shade=True, label='no turnover')\n",
    "ax=sns.kdeplot(df.loc[(df['turnover'] == 1),'satisfaction'] , color='r',shade=True, label='turnover')\n",
    "plt.title('Employee Satisfaction Distribution - Turnover V.S. No Turnover');"
   ]
  },
  {
   "cell_type": "markdown",
   "metadata": {
    "slideshow": {
     "slide_type": "subslide"
    }
   },
   "source": [
    "<a id='project_count'></a>\n",
    "# EDA 4. Employee Project Count "
   ]
  },
  {
   "cell_type": "markdown",
   "metadata": {
    "cell_style": "split",
    "slideshow": {
     "slide_type": "-"
    }
   },
   "source": [
    "<img src=\"projectCount.png\" style=\"width=800px;height:500px\"/>"
   ]
  },
  {
   "cell_type": "markdown",
   "metadata": {
    "cell_style": "split",
    "slideshow": {
     "slide_type": "-"
    }
   },
   "source": [
    "- More than half of the employees with **2, 6 and 7** projects left the company\n",
    "- Majority of the employees who did not leave the company had **3,4, and 5** projects\n",
    "- All of the employees with **7** projects left the company\n",
    "- There is an increase in employee turnover rate as project count increases"
   ]
  },
  {
   "cell_type": "code",
   "execution_count": 22,
   "metadata": {
    "cell_style": "center",
    "slideshow": {
     "slide_type": "skip"
    }
   },
   "outputs": [
    {
     "data": {
      "image/png": "[encoded data removed]",
      "text/plain": [
       "<Figure size 1440x576 with 1 Axes>"
      ]
     },
     "metadata": {
      "needs_background": "light"
     },
     "output_type": "display_data"
    }
   ],
   "source": [
    "plt.figure(figsize=(20,8))\n",
    "ax = sns.barplot(x=\"projectCount\", y=\"projectCount\", hue=\"turnover\", data=df, estimator=lambda x: len(x) / len(df) * 100)\n",
    "ax.set(ylabel=\"Percent\");"
   ]
  },
  {
   "cell_type": "markdown",
   "metadata": {
    "slideshow": {
     "slide_type": "subslide"
    }
   },
   "source": [
    "<a id='department'></a>\n",
    "# EDA 5. Employee Department Distribution"
   ]
  },
  {
   "cell_type": "markdown",
   "metadata": {
    "slideshow": {
     "slide_type": "-"
    }
   },
   "source": [
    "<img src=\"Department Distribution.png\" style=\"width=900px;height:700px\"/>"
   ]
  },
  {
   "cell_type": "code",
   "execution_count": 23,
   "metadata": {
    "scrolled": true,
    "slideshow": {
     "slide_type": "skip"
    }
   },
   "outputs": [
    {
     "data": {
      "text/html": [
       "<div>\n",
       "<style scoped>\n",
       "    .dataframe tbody tr th:only-of-type {\n",
       "        vertical-align: middle;\n",
       "    }\n",
       "\n",
       "    .dataframe tbody tr th {\n",
       "        vertical-align: top;\n",
       "    }\n",
       "\n",
       "    .dataframe thead th {\n",
       "        text-align: right;\n",
       "    }\n",
       "</style>\n",
       "<table border=\"1\" class=\"dataframe\">\n",
       "  <thead>\n",
       "    <tr style=\"text-align: right;\">\n",
       "      <th></th>\n",
       "      <th>department</th>\n",
       "      <th>left</th>\n",
       "      <th>stay</th>\n",
       "    </tr>\n",
       "  </thead>\n",
       "  <tbody>\n",
       "    <tr>\n",
       "      <th>0</th>\n",
       "      <td>sales</td>\n",
       "      <td>1014</td>\n",
       "      <td>4140</td>\n",
       "    </tr>\n",
       "    <tr>\n",
       "      <th>1</th>\n",
       "      <td>technical</td>\n",
       "      <td>697</td>\n",
       "      <td>2720</td>\n",
       "    </tr>\n",
       "    <tr>\n",
       "      <th>2</th>\n",
       "      <td>support</td>\n",
       "      <td>555</td>\n",
       "      <td>2229</td>\n",
       "    </tr>\n",
       "    <tr>\n",
       "      <th>3</th>\n",
       "      <td>IT</td>\n",
       "      <td>273</td>\n",
       "      <td>1227</td>\n",
       "    </tr>\n",
       "    <tr>\n",
       "      <th>4</th>\n",
       "      <td>hr</td>\n",
       "      <td>215</td>\n",
       "      <td>739</td>\n",
       "    </tr>\n",
       "    <tr>\n",
       "      <th>5</th>\n",
       "      <td>accounting</td>\n",
       "      <td>204</td>\n",
       "      <td>767</td>\n",
       "    </tr>\n",
       "    <tr>\n",
       "      <th>6</th>\n",
       "      <td>marketing</td>\n",
       "      <td>203</td>\n",
       "      <td>858</td>\n",
       "    </tr>\n",
       "    <tr>\n",
       "      <th>7</th>\n",
       "      <td>product_mng</td>\n",
       "      <td>198</td>\n",
       "      <td>902</td>\n",
       "    </tr>\n",
       "    <tr>\n",
       "      <th>8</th>\n",
       "      <td>RandD</td>\n",
       "      <td>121</td>\n",
       "      <td>787</td>\n",
       "    </tr>\n",
       "    <tr>\n",
       "      <th>9</th>\n",
       "      <td>management</td>\n",
       "      <td>91</td>\n",
       "      <td>630</td>\n",
       "    </tr>\n",
       "  </tbody>\n",
       "</table>\n",
       "</div>"
      ],
      "text/plain": [
       "    department  left  stay\n",
       "0        sales  1014  4140\n",
       "1    technical   697  2720\n",
       "2      support   555  2229\n",
       "3           IT   273  1227\n",
       "4           hr   215   739\n",
       "5   accounting   204   767\n",
       "6    marketing   203   858\n",
       "7  product_mng   198   902\n",
       "8        RandD   121   787\n",
       "9   management    91   630"
      ]
     },
     "execution_count": 23,
     "metadata": {},
     "output_type": "execute_result"
    }
   ],
   "source": [
    "hrleft = df[df['turnover']==1]\n",
    "\n",
    "hrleft = pd.DataFrame(hrleft.department.value_counts()).reset_index()\n",
    "hrstay = pd.DataFrame(df.department.value_counts()).reset_index()\n",
    "\n",
    "hr_merge = pd.merge(hrleft, hrstay, how='inner', on='index')\n",
    "\n",
    "hr_merge = hr_merge.rename(columns={\"department_x\":'left', \"department_y\":'stay', \"index\":'department' })\n",
    "hr_merge"
   ]
  },
  {
   "cell_type": "code",
   "execution_count": 24,
   "metadata": {
    "slideshow": {
     "slide_type": "skip"
    }
   },
   "outputs": [
    {
     "data": {
      "image/png": "[encoded data removed]",
      "text/plain": [
       "<Figure size 1440x864 with 1 Axes>"
      ]
     },
     "metadata": {},
     "output_type": "display_data"
    }
   ],
   "source": [
    "sns.set(style=\"whitegrid\")\n",
    "\n",
    "# Initialize the matplotlib figure\n",
    "f, ax = plt.subplots(figsize=(20, 12))\n",
    "\n",
    "# Plot the total schools per city\n",
    "sns.set_color_codes(\"pastel\")\n",
    "sns.barplot(x=\"stay\", y='department', data=hr_merge,\n",
    "            label=\"Total\", color=\"b\")\n",
    "\n",
    "# Plot the total community schools per city\n",
    "sns.set_color_codes(\"muted\")\n",
    "sns.barplot(x=\"left\", y=\"department\", data=hr_merge,\n",
    "            label=\"Left\", color=\"r\")\n",
    "\n",
    "# Add a legend and informative axis label\n",
    "ax.legend(ncol=2, loc=\"lower right\", frameon=True)\n",
    "ax.set( ylabel=\"Department\", title='Employees Per Department',\n",
    "       xlabel=\"# of Employees\")\n",
    "sns.despine(left=True, bottom=True);"
   ]
  },
  {
   "cell_type": "markdown",
   "metadata": {
    "slideshow": {
     "slide_type": "subslide"
    }
   },
   "source": [
    "<a id='avghours'></a>\n",
    "# EDA 6. Average Monthly Hours\n",
    "\n",
    "**Summary:** \n",
    " - A bi-modal distribution for employees that turnovered \n",
    " - Employees who had less hours of work **(~150hours or less)** left the company more\n",
    " - Employees who had too many hours of work **(~250 or more)** left the company \n",
    " - Employees who left generally were **underworked** or **overworked**.\n"
   ]
  },
  {
   "cell_type": "markdown",
   "metadata": {
    "slideshow": {
     "slide_type": "-"
    }
   },
   "source": [
    "<img src=\"AverageMonthly Hours.png\" style=\"width=600px;height:400px\"/>"
   ]
  },
  {
   "cell_type": "code",
   "execution_count": 25,
   "metadata": {
    "slideshow": {
     "slide_type": "skip"
    }
   },
   "outputs": [
    {
     "data": {
      "image/png": "[encoded data removed]",
      "text/plain": [
       "<Figure size 1296x576 with 1 Axes>"
      ]
     },
     "metadata": {},
     "output_type": "display_data"
    }
   ],
   "source": [
    "#KDEPlot: Kernel Density Estimate Plot\n",
    "fig = plt.figure(figsize=(18, 8))\n",
    "ax=sns.kdeplot(df.loc[(df['turnover'] == 0),'averageMonthlyHours'] , color='b',shade=True, label='no turnover')\n",
    "ax=sns.kdeplot(df.loc[(df['turnover'] == 1),'averageMonthlyHours'] , color='r',shade=True, label='turnover')\n",
    "ax.set(xlabel='Employee Average Monthly Hours', ylabel='Frequency')\n",
    "plt.title('Employee AverageMonthly Hours Distribution - Turnover V.S. No Turnover');"
   ]
  },
  {
   "cell_type": "markdown",
   "metadata": {
    "slideshow": {
     "slide_type": "slide"
    }
   },
   "source": [
    "<a id='pre_processing'></a>\n",
    "# Pre-processing \n",
    "***"
   ]
  },
  {
   "cell_type": "markdown",
   "metadata": {
    "slideshow": {
     "slide_type": "subslide"
    }
   },
   "source": [
    "- Apply **get_dummies()** to the categorical variables.\n",
    "- Seperate categorical variables and numeric variables, then combine them."
   ]
  },
  {
   "cell_type": "code",
   "execution_count": 26,
   "metadata": {
    "scrolled": true,
    "slideshow": {
     "slide_type": "-"
    }
   },
   "outputs": [
    {
     "data": {
      "text/html": [
       "<div>\n",
       "<style scoped>\n",
       "    .dataframe tbody tr th:only-of-type {\n",
       "        vertical-align: middle;\n",
       "    }\n",
       "\n",
       "    .dataframe tbody tr th {\n",
       "        vertical-align: top;\n",
       "    }\n",
       "\n",
       "    .dataframe thead th {\n",
       "        text-align: right;\n",
       "    }\n",
       "</style>\n",
       "<table border=\"1\" class=\"dataframe\">\n",
       "  <thead>\n",
       "    <tr style=\"text-align: right;\">\n",
       "      <th></th>\n",
       "      <th>turnover</th>\n",
       "      <th>promotion</th>\n",
       "      <th>department_RandD</th>\n",
       "      <th>department_accounting</th>\n",
       "      <th>department_hr</th>\n",
       "      <th>department_management</th>\n",
       "      <th>department_marketing</th>\n",
       "      <th>department_product_mng</th>\n",
       "      <th>department_sales</th>\n",
       "      <th>department_support</th>\n",
       "      <th>...</th>\n",
       "      <th>department_nan</th>\n",
       "      <th>salary_low</th>\n",
       "      <th>salary_medium</th>\n",
       "      <th>salary_nan</th>\n",
       "      <th>satisfaction</th>\n",
       "      <th>evaluation</th>\n",
       "      <th>projectCount</th>\n",
       "      <th>averageMonthlyHours</th>\n",
       "      <th>yearsAtCompany</th>\n",
       "      <th>workAccident</th>\n",
       "    </tr>\n",
       "  </thead>\n",
       "  <tbody>\n",
       "    <tr>\n",
       "      <th>0</th>\n",
       "      <td>1</td>\n",
       "      <td>0</td>\n",
       "      <td>0</td>\n",
       "      <td>0</td>\n",
       "      <td>0</td>\n",
       "      <td>0</td>\n",
       "      <td>0</td>\n",
       "      <td>0</td>\n",
       "      <td>1</td>\n",
       "      <td>0</td>\n",
       "      <td>...</td>\n",
       "      <td>0</td>\n",
       "      <td>1</td>\n",
       "      <td>0</td>\n",
       "      <td>0</td>\n",
       "      <td>0.38</td>\n",
       "      <td>0.53</td>\n",
       "      <td>2</td>\n",
       "      <td>157</td>\n",
       "      <td>3</td>\n",
       "      <td>0</td>\n",
       "    </tr>\n",
       "    <tr>\n",
       "      <th>1</th>\n",
       "      <td>1</td>\n",
       "      <td>0</td>\n",
       "      <td>0</td>\n",
       "      <td>0</td>\n",
       "      <td>0</td>\n",
       "      <td>0</td>\n",
       "      <td>0</td>\n",
       "      <td>0</td>\n",
       "      <td>1</td>\n",
       "      <td>0</td>\n",
       "      <td>...</td>\n",
       "      <td>0</td>\n",
       "      <td>0</td>\n",
       "      <td>1</td>\n",
       "      <td>0</td>\n",
       "      <td>0.80</td>\n",
       "      <td>0.86</td>\n",
       "      <td>5</td>\n",
       "      <td>262</td>\n",
       "      <td>6</td>\n",
       "      <td>0</td>\n",
       "    </tr>\n",
       "    <tr>\n",
       "      <th>2</th>\n",
       "      <td>1</td>\n",
       "      <td>0</td>\n",
       "      <td>0</td>\n",
       "      <td>0</td>\n",
       "      <td>0</td>\n",
       "      <td>0</td>\n",
       "      <td>0</td>\n",
       "      <td>0</td>\n",
       "      <td>1</td>\n",
       "      <td>0</td>\n",
       "      <td>...</td>\n",
       "      <td>0</td>\n",
       "      <td>0</td>\n",
       "      <td>1</td>\n",
       "      <td>0</td>\n",
       "      <td>0.11</td>\n",
       "      <td>0.88</td>\n",
       "      <td>7</td>\n",
       "      <td>272</td>\n",
       "      <td>4</td>\n",
       "      <td>0</td>\n",
       "    </tr>\n",
       "    <tr>\n",
       "      <th>3</th>\n",
       "      <td>1</td>\n",
       "      <td>0</td>\n",
       "      <td>0</td>\n",
       "      <td>0</td>\n",
       "      <td>0</td>\n",
       "      <td>0</td>\n",
       "      <td>0</td>\n",
       "      <td>0</td>\n",
       "      <td>1</td>\n",
       "      <td>0</td>\n",
       "      <td>...</td>\n",
       "      <td>0</td>\n",
       "      <td>1</td>\n",
       "      <td>0</td>\n",
       "      <td>0</td>\n",
       "      <td>0.72</td>\n",
       "      <td>0.87</td>\n",
       "      <td>5</td>\n",
       "      <td>223</td>\n",
       "      <td>5</td>\n",
       "      <td>0</td>\n",
       "    </tr>\n",
       "    <tr>\n",
       "      <th>4</th>\n",
       "      <td>1</td>\n",
       "      <td>0</td>\n",
       "      <td>0</td>\n",
       "      <td>0</td>\n",
       "      <td>0</td>\n",
       "      <td>0</td>\n",
       "      <td>0</td>\n",
       "      <td>0</td>\n",
       "      <td>1</td>\n",
       "      <td>0</td>\n",
       "      <td>...</td>\n",
       "      <td>0</td>\n",
       "      <td>1</td>\n",
       "      <td>0</td>\n",
       "      <td>0</td>\n",
       "      <td>0.37</td>\n",
       "      <td>0.52</td>\n",
       "      <td>2</td>\n",
       "      <td>159</td>\n",
       "      <td>3</td>\n",
       "      <td>0</td>\n",
       "    </tr>\n",
       "  </tbody>\n",
       "</table>\n",
       "<p>5 rows × 21 columns</p>\n",
       "</div>"
      ],
      "text/plain": [
       "   turnover  promotion  department_RandD  department_accounting  \\\n",
       "0         1          0                 0                      0   \n",
       "1         1          0                 0                      0   \n",
       "2         1          0                 0                      0   \n",
       "3         1          0                 0                      0   \n",
       "4         1          0                 0                      0   \n",
       "\n",
       "   department_hr  department_management  department_marketing  \\\n",
       "0              0                      0                     0   \n",
       "1              0                      0                     0   \n",
       "2              0                      0                     0   \n",
       "3              0                      0                     0   \n",
       "4              0                      0                     0   \n",
       "\n",
       "   department_product_mng  department_sales  department_support  ...  \\\n",
       "0                       0                 1                   0  ...   \n",
       "1                       0                 1                   0  ...   \n",
       "2                       0                 1                   0  ...   \n",
       "3                       0                 1                   0  ...   \n",
       "4                       0                 1                   0  ...   \n",
       "\n",
       "   department_nan  salary_low  salary_medium  salary_nan  satisfaction  \\\n",
       "0               0           1              0           0          0.38   \n",
       "1               0           0              1           0          0.80   \n",
       "2               0           0              1           0          0.11   \n",
       "3               0           1              0           0          0.72   \n",
       "4               0           1              0           0          0.37   \n",
       "\n",
       "   evaluation  projectCount  averageMonthlyHours  yearsAtCompany  workAccident  \n",
       "0        0.53             2                  157               3             0  \n",
       "1        0.86             5                  262               6             0  \n",
       "2        0.88             7                  272               4             0  \n",
       "3        0.87             5                  223               5             0  \n",
       "4        0.52             2                  159               3             0  \n",
       "\n",
       "[5 rows x 21 columns]"
      ]
     },
     "execution_count": 26,
     "metadata": {},
     "output_type": "execute_result"
    }
   ],
   "source": [
    "cat_var = ['department','salary','turnover','promotion']\n",
    "num_var = ['satisfaction','evaluation','projectCount','averageMonthlyHours','yearsAtCompany', 'workAccident']\n",
    "categorical_df = pd.get_dummies(df[cat_var], drop_first=True, dummy_na=True)\n",
    "numerical_df = df[num_var]\n",
    "\n",
    "new_df = pd.concat([categorical_df,numerical_df], axis=1)\n",
    "new_df.head()"
   ]
  },
  {
   "cell_type": "code",
   "execution_count": 27,
   "metadata": {
    "slideshow": {
     "slide_type": "-"
    }
   },
   "outputs": [
    {
     "data": {
      "text/plain": [
       "(14999, 21)"
      ]
     },
     "execution_count": 27,
     "metadata": {},
     "output_type": "execute_result"
    }
   ],
   "source": [
    "new_df.shape"
   ]
  },
  {
   "cell_type": "markdown",
   "metadata": {
    "slideshow": {
     "slide_type": "slide"
    }
   },
   "source": [
    "<a id='train_test_split'></a>\n",
    "# Split Train/Test Set\n",
    "***"
   ]
  },
  {
   "cell_type": "markdown",
   "metadata": {
    "slideshow": {
     "slide_type": "subslide"
    }
   },
   "source": [
    "Let's split our data into a train and test set. We'll fit our model with the train set and leave our test set for our last evaluation."
   ]
  },
  {
   "cell_type": "code",
   "execution_count": 28,
   "metadata": {
    "slideshow": {
     "slide_type": "skip"
    }
   },
   "outputs": [],
   "source": [
    "from sklearn.model_selection import train_test_split\n",
    "from sklearn.metrics import accuracy_score, classification_report, precision_score, recall_score, confusion_matrix, precision_recall_curve"
   ]
  },
  {
   "cell_type": "code",
   "execution_count": 29,
   "metadata": {
    "slideshow": {
     "slide_type": "-"
    }
   },
   "outputs": [],
   "source": [
    "# Create the X and y set\n",
    "X = new_df.iloc[:,1:]\n",
    "y = new_df.iloc[:,0]\n",
    "\n",
    "# Define train and test\n",
    "X_train, X_test, y_train, y_test = train_test_split(X, y, test_size=0.20, random_state=123, stratify=y)"
   ]
  },
  {
   "cell_type": "code",
   "execution_count": 30,
   "metadata": {},
   "outputs": [
    {
     "name": "stdout",
     "output_type": "stream",
     "text": [
      "(11999, 20)\n",
      "(3000, 20)\n"
     ]
    }
   ],
   "source": [
    "print(X_train.shape)\n",
    "print(X_test.shape)"
   ]
  },
  {
   "cell_type": "markdown",
   "metadata": {
    "slideshow": {
     "slide_type": "slide"
    }
   },
   "source": [
    "<a id='class_imbalance'></a>\n",
    "# Class Imbalance"
   ]
  },
  {
   "cell_type": "markdown",
   "metadata": {
    "slideshow": {
     "slide_type": "subslide"
    }
   },
   "source": [
    "### Employee Turnover Rate: 24%"
   ]
  },
  {
   "cell_type": "code",
   "execution_count": 31,
   "metadata": {
    "slideshow": {
     "slide_type": "-"
    }
   },
   "outputs": [
    {
     "data": {
      "text/plain": [
       "0    0.76\n",
       "1    0.24\n",
       "Name: turnover, dtype: float64"
      ]
     },
     "execution_count": 31,
     "metadata": {},
     "output_type": "execute_result"
    }
   ],
   "source": [
    "round(df.turnover.value_counts(1), 2)"
   ]
  },
  {
   "cell_type": "markdown",
   "metadata": {
    "slideshow": {
     "slide_type": "-"
    }
   },
   "source": [
    "<img src=\"https://miro.medium.com/max/1240/1*yYMSLDHkxY_4OkPqQt7S0g.png\" style=\"width=800px;height:600px\"/>"
   ]
  },
  {
   "cell_type": "markdown",
   "metadata": {
    "slideshow": {
     "slide_type": "-"
    }
   },
   "source": [
    "# How to Treat Imbalanced Datasets\n",
    "\n",
    "There are many ways of dealing with imbalanced data. We will focus in the following approaches:\n",
    "\n",
    "1. Oversampling - `SMOTE`\n",
    "2. Upsampling & Downsampling - `sklearn.utils.resample`"
   ]
  },
  {
   "cell_type": "markdown",
   "metadata": {
    "slideshow": {
     "slide_type": "-"
    }
   },
   "source": [
    "<img src=\"https://miro.medium.com/max/1400/1*GJY7UnJ4WCzqgtrfkCvkdA.png\" style=\"width=500px;height:300px\"/>"
   ]
  },
  {
   "cell_type": "code",
   "execution_count": 32,
   "metadata": {
    "slideshow": {
     "slide_type": "-"
    }
   },
   "outputs": [],
   "source": [
    "from sklearn.utils import resample\n",
    "from imblearn.over_sampling import SMOTE \n",
    "\n",
    "# Upsample minority class\n",
    "X_train_u, y_train_u = resample(X_train[y_train == 1],\n",
    "                                y_train[y_train == 1],\n",
    "                                replace=True,\n",
    "                                n_samples=X_train[y_train == 0].shape[0],\n",
    "                                random_state=1)\n",
    "X_train_u = np.concatenate((X_train[y_train == 0], X_train_u))\n",
    "y_train_u = np.concatenate((y_train[y_train == 0], y_train_u))\n",
    "\n",
    "\n",
    "# Upsample using SMOTE\n",
    "sm = SMOTE(random_state=12, sampling_strategy = 1.0)\n",
    "x_train_sm, y_train_sm = sm.fit_resample(X_train, y_train)\n",
    "\n",
    "\n",
    "# Downsample majority class\n",
    "X_train_d, y_train_d = resample(X_train[y_train == 0],\n",
    "                                y_train[y_train == 0],\n",
    "                                replace=True,\n",
    "                                n_samples=X_train[y_train == 1].shape[0],\n",
    "                                random_state=1)\n",
    "X_train_d = np.concatenate((X_train[y_train == 1], X_train_d))\n",
    "y_train_d = np.concatenate((y_train[y_train == 1], y_train_d))"
   ]
  },
  {
   "cell_type": "code",
   "execution_count": 33,
   "metadata": {
    "scrolled": false,
    "slideshow": {
     "slide_type": "-"
    }
   },
   "outputs": [
    {
     "name": "stdout",
     "output_type": "stream",
     "text": [
      "Original shape: (11999, 20) (11999,)\n",
      "Upsampled shape: (18284, 20) (18284,)\n",
      "SMOTE sample shape: (18284, 20) (18284,)\n",
      "Downsampled shape: (5714, 20) (5714,)\n"
     ]
    }
   ],
   "source": [
    "print(\"Original shape:\", X_train.shape, y_train.shape)\n",
    "print(\"Upsampled shape:\", X_train_u.shape, y_train_u.shape)\n",
    "print (\"SMOTE sample shape:\", x_train_sm.shape, y_train_sm.shape)\n",
    "print(\"Downsampled shape:\", X_train_d.shape, y_train_d.shape)"
   ]
  },
  {
   "cell_type": "markdown",
   "metadata": {
    "slideshow": {
     "slide_type": "skip"
    }
   },
   "source": [
    "<a id='upsampling'></a>\n",
    "# Choose Which Sampling Technique to Use For Model\n",
    "***"
   ]
  },
  {
   "cell_type": "markdown",
   "metadata": {
    "slideshow": {
     "slide_type": "skip"
    }
   },
   "source": [
    "### Apply 10-Fold Cross Validation for Logistic Regression\n",
    "#### Train on Original, Upsampled, SMOTE, and Downsampled Data\n",
    "\n",
    "**Objective**:Train our Logistic Regression Model to our **original, upsampled, and downsampled data** to see which performs best. \n",
    "\n",
    "**Resut:**\n",
    "- **Original Sample**: F1 Score 44.96%\n",
    "- **Upsample:** F1 Score 77.93%\n",
    "- **SMOTE:** F1 Score 78.8%\n",
    "- **Downsample:** F1 Score 77.85%\n",
    "\n",
    "**SMOTE gives us the best performance**\n",
    "\n",
    "## Upsample\n",
    "You randomly resample the minority class to create new data. \n",
    "\n",
    "## SMOTE\n",
    "You use the nearest neighbors of the minority observations to create new synthetic data\n",
    "\n",
    "## Downsample\n",
    "You remove some samples of the majority class"
   ]
  },
  {
   "cell_type": "code",
   "execution_count": 34,
   "metadata": {
    "slideshow": {
     "slide_type": "skip"
    }
   },
   "outputs": [],
   "source": [
    "from sklearn.linear_model import LogisticRegression\n",
    "from sklearn.pipeline import make_pipeline\n",
    "from sklearn.preprocessing import StandardScaler\n",
    "from sklearn.model_selection import cross_val_score"
   ]
  },
  {
   "cell_type": "code",
   "execution_count": 35,
   "metadata": {
    "slideshow": {
     "slide_type": "-"
    }
   },
   "outputs": [
    {
     "name": "stdout",
     "output_type": "stream",
     "text": [
      "The best F1 Score for Original data:\n",
      "0.4915813541254518\n",
      "The best F1 Score for Upsampled data:\n",
      "0.7658953577236598\n",
      "The best F1 Score for Downsampled data:\n",
      "0.7733963399170387\n",
      "The best F1 Score for SMOTE data:\n",
      "0.7835500386973869\n"
     ]
    }
   ],
   "source": [
    "# Create the Original, Upsampled, and Downsampled training sets\n",
    "methods_data = {\"Original\": (X_train, y_train),\n",
    "                \"Upsampled\": (X_train_u, y_train_u),\n",
    "                \"Downsampled\": (X_train_d, y_train_d),\n",
    "                \"SMOTE\":(x_train_sm, y_train_sm)}\n",
    "\n",
    "# Loop through each type of training sets and apply 5-Fold CV using Logistic Regression\n",
    "# By default in cross_val_score StratifiedCV is used\n",
    "for method in methods_data.keys():\n",
    "    lr_results = cross_val_score(LogisticRegression(), \n",
    "                                 methods_data[method][0], \n",
    "                                 methods_data[method][1], \n",
    "                                 cv=5, \n",
    "                                 scoring='f1')\n",
    "    print(f\"The best F1 Score for {method} data:\")\n",
    "    print (lr_results.mean())\n",
    " \n",
    "\n",
    "# cross_val_score(LogisticRegression(class_weight='balanced'), X_train, y_train, cv=5, scoring='f1').mean()"
   ]
  },
  {
   "cell_type": "markdown",
   "metadata": {
    "slideshow": {
     "slide_type": "slide"
    }
   },
   "source": [
    "# Model Training and Performance (5-Fold CV)\n",
    "***"
   ]
  },
  {
   "cell_type": "markdown",
   "metadata": {
    "slideshow": {
     "slide_type": "subslide"
    }
   },
   "source": [
    "#### We're training 3 models:\n",
    "\n",
    "1. Logistic Regression Classifier\n",
    "2. Random Forest Classifier\n",
    "3. Gradient Boosting Classifier"
   ]
  },
  {
   "cell_type": "markdown",
   "metadata": {
    "slideshow": {
     "slide_type": "-"
    }
   },
   "source": [
    "<a id='lr'></a>\n",
    "## Logistic Regression Classifier"
   ]
  },
  {
   "cell_type": "code",
   "execution_count": 36,
   "metadata": {
    "slideshow": {
     "slide_type": "-"
    }
   },
   "outputs": [
    {
     "data": {
      "text/plain": [
       "LogisticRegression()"
      ]
     },
     "execution_count": 36,
     "metadata": {},
     "output_type": "execute_result"
    }
   ],
   "source": [
    "from sklearn.metrics import roc_auc_score\n",
    "from sklearn.metrics import accuracy_score\n",
    "\n",
    "lr = LogisticRegression()\n",
    "lr = lr.fit(x_train_sm, y_train_sm)\n",
    "lr"
   ]
  },
  {
   "cell_type": "markdown",
   "metadata": {},
   "source": [
    "### Apply 5-Fold Cross Validation on Logistic Regression"
   ]
  },
  {
   "cell_type": "code",
   "execution_count": 37,
   "metadata": {
    "scrolled": true
   },
   "outputs": [
    {
     "data": {
      "text/plain": [
       "0.7835500386973869"
      ]
     },
     "execution_count": 37,
     "metadata": {},
     "output_type": "execute_result"
    }
   ],
   "source": [
    "lr_result = cross_val_score(lr, x_train_sm, y_train_sm, cv=5, scoring='f1')\n",
    "lr_result.mean()"
   ]
  },
  {
   "cell_type": "markdown",
   "metadata": {},
   "source": [
    "### Logistic Regression Classifier AUC  (0.77)"
   ]
  },
  {
   "cell_type": "code",
   "execution_count": 38,
   "metadata": {
    "scrolled": true,
    "slideshow": {
     "slide_type": "-"
    }
   },
   "outputs": [
    {
     "name": "stdout",
     "output_type": "stream",
     "text": [
      "\n",
      "\n",
      " ---Logistic Regression Model---\n",
      "Logistic Regression AUC = 0.77\n",
      "              precision    recall  f1-score   support\n",
      "\n",
      "           0       0.92      0.76      0.83      2286\n",
      "           1       0.51      0.79      0.62       714\n",
      "\n",
      "    accuracy                           0.77      3000\n",
      "   macro avg       0.71      0.77      0.72      3000\n",
      "weighted avg       0.82      0.77      0.78      3000\n",
      "\n"
     ]
    }
   ],
   "source": [
    "print (\"\\n\\n ---Logistic Regression Model---\")\n",
    "lr_auc = roc_auc_score(y_test, lr.predict(X_test))\n",
    "\n",
    "print (\"Logistic Regression AUC = %2.2f\" % lr_auc)\n",
    "\n",
    "lr2 = lr.fit(x_train_sm, y_train_sm)\n",
    "print(classification_report(y_test, lr.predict(X_test)))"
   ]
  },
  {
   "cell_type": "markdown",
   "metadata": {
    "slideshow": {
     "slide_type": "-"
    }
   },
   "source": [
    "<a id='rf'></a>\n",
    "# Random Forest Classifier "
   ]
  },
  {
   "cell_type": "code",
   "execution_count": 39,
   "metadata": {},
   "outputs": [
    {
     "data": {
      "text/plain": [
       "RandomForestClassifier()"
      ]
     },
     "execution_count": 39,
     "metadata": {},
     "output_type": "execute_result"
    }
   ],
   "source": [
    "from sklearn.ensemble import RandomForestClassifier\n",
    "\n",
    "# Random Forest Model\n",
    "rf = RandomForestClassifier()\n",
    "rf = rf.fit(x_train_sm, y_train_sm)\n",
    "rf"
   ]
  },
  {
   "cell_type": "markdown",
   "metadata": {},
   "source": [
    "### Apply 5-Fold Cross Validation on Random Forest"
   ]
  },
  {
   "cell_type": "code",
   "execution_count": 40,
   "metadata": {
    "scrolled": true
   },
   "outputs": [
    {
     "data": {
      "text/plain": [
       "0.9803413695052837"
      ]
     },
     "execution_count": 40,
     "metadata": {},
     "output_type": "execute_result"
    }
   ],
   "source": [
    "rf_result = cross_val_score(rf, x_train_sm, y_train_sm, cv=5, scoring='f1')\n",
    "rf_result.mean()"
   ]
  },
  {
   "cell_type": "markdown",
   "metadata": {},
   "source": [
    "### Random Forest Classifier AUC (0.98)"
   ]
  },
  {
   "cell_type": "code",
   "execution_count": 41,
   "metadata": {},
   "outputs": [
    {
     "name": "stdout",
     "output_type": "stream",
     "text": [
      "\n",
      "\n",
      " ---Random Forest Model---\n",
      "Random Forest AUC = 0.98\n",
      "              precision    recall  f1-score   support\n",
      "\n",
      "           0       0.99      0.99      0.99      2286\n",
      "           1       0.97      0.98      0.97       714\n",
      "\n",
      "    accuracy                           0.99      3000\n",
      "   macro avg       0.98      0.98      0.98      3000\n",
      "weighted avg       0.99      0.99      0.99      3000\n",
      "\n"
     ]
    }
   ],
   "source": [
    "from sklearn.metrics import roc_auc_score\n",
    "\n",
    "print (\"\\n\\n ---Random Forest Model---\")\n",
    "rf_roc_auc = roc_auc_score(y_test, rf.predict(X_test))\n",
    "print (\"Random Forest AUC = %2.2f\" % rf_roc_auc)\n",
    "print(classification_report(y_test, rf.predict(X_test)))"
   ]
  },
  {
   "cell_type": "markdown",
   "metadata": {},
   "source": [
    "<a id='svc'></a>\n",
    "# Gradient Boosting Classifier\n"
   ]
  },
  {
   "cell_type": "code",
   "execution_count": 42,
   "metadata": {},
   "outputs": [
    {
     "data": {
      "text/plain": [
       "GradientBoostingClassifier()"
      ]
     },
     "execution_count": 42,
     "metadata": {},
     "output_type": "execute_result"
    }
   ],
   "source": [
    "from sklearn.ensemble import GradientBoostingClassifier\n",
    "\n",
    "gbc = GradientBoostingClassifier()  \n",
    "gbc = gbc.fit(x_train_sm,y_train_sm)\n",
    "gbc"
   ]
  },
  {
   "cell_type": "markdown",
   "metadata": {},
   "source": [
    "### Apply 5-Fold Cross Validation on Gradient Boosting Classifier"
   ]
  },
  {
   "cell_type": "code",
   "execution_count": 43,
   "metadata": {
    "scrolled": true
   },
   "outputs": [
    {
     "data": {
      "text/plain": [
       "0.9583186379021547"
      ]
     },
     "execution_count": 43,
     "metadata": {},
     "output_type": "execute_result"
    }
   ],
   "source": [
    "gbc_result = cross_val_score(gbc, x_train_sm, y_train_sm, cv=5, scoring='f1')\n",
    "gbc_result.mean()"
   ]
  },
  {
   "cell_type": "markdown",
   "metadata": {},
   "source": [
    "### Gradient Boosting Classifier AUC  (0.96)"
   ]
  },
  {
   "cell_type": "code",
   "execution_count": 44,
   "metadata": {
    "scrolled": true
   },
   "outputs": [
    {
     "name": "stdout",
     "output_type": "stream",
     "text": [
      "\n",
      "\n",
      " ---Gradient Boosting Model---\n",
      "Gradient Boosting Classifier AUC = 0.96\n",
      "              precision    recall  f1-score   support\n",
      "\n",
      "           0       0.98      0.97      0.98      2286\n",
      "           1       0.91      0.94      0.92       714\n",
      "\n",
      "    accuracy                           0.96      3000\n",
      "   macro avg       0.95      0.96      0.95      3000\n",
      "weighted avg       0.96      0.96      0.96      3000\n",
      "\n"
     ]
    }
   ],
   "source": [
    "from sklearn.metrics import roc_auc_score\n",
    "\n",
    "print (\"\\n\\n ---Gradient Boosting Model---\")\n",
    "gbc_auc = roc_auc_score(y_test, gbc.predict(X_test))\n",
    "print (\"Gradient Boosting Classifier AUC = %2.2f\" % gbc_auc)\n",
    "print(classification_report(y_test, gbc.predict(X_test)))"
   ]
  },
  {
   "cell_type": "markdown",
   "metadata": {
    "slideshow": {
     "slide_type": "slide"
    }
   },
   "source": [
    "# Model Evaluation (F1 Score & ROC/AUC)"
   ]
  },
  {
   "cell_type": "markdown",
   "metadata": {
    "slideshow": {
     "slide_type": "subslide"
    }
   },
   "source": [
    "<a id='roc'></a>\n",
    "# ROC Graph"
   ]
  },
  {
   "cell_type": "code",
   "execution_count": 45,
   "metadata": {
    "slideshow": {
     "slide_type": "-"
    }
   },
   "outputs": [
    {
     "data": {
      "image/png": "[encoded data removed]",
      "text/plain": [
       "<Figure size 1080x864 with 1 Axes>"
      ]
     },
     "metadata": {},
     "output_type": "display_data"
    }
   ],
   "source": [
    "# Create ROC Graph\n",
    "from sklearn.metrics import roc_curve\n",
    "from sklearn.metrics import confusion_matrix\n",
    "\n",
    "fpr, tpr, thresholds = roc_curve(y_test, lr.predict_proba(X_test)[:,1])\n",
    "rf_fpr, rf_tpr, rf_thresholds = roc_curve(y_test, rf.predict_proba(X_test)[:,1])\n",
    "gbc_fpr, gbc_tpr, gbc_thresholds = roc_curve(y_test, gbc.predict_proba(X_test)[:,1])\n",
    "\n",
    "\n",
    "plt.figure(figsize=(15,12))\n",
    "\n",
    "# Plot Logistic Regression ROC\n",
    "plt.plot(fpr, tpr, label='Logistic Regression (area = %0.2f)' % lr_auc)\n",
    "\n",
    "# Plot Random Forest ROC\n",
    "plt.plot(rf_fpr, rf_tpr, label='Random Forest Classifier (area = %0.2f)' % rf_roc_auc)\n",
    "\n",
    "# Plot Decision Tree ROC\n",
    "plt.plot(gbc_fpr, gbc_tpr, label='Gradient Boosting Classifier (area = %0.2f)' % gbc_auc)\n",
    "\n",
    "# Plot Base Rate ROC\n",
    "plt.plot([0,1], [0,1],label='Base Rate')\n",
    "\n",
    "plt.xlim([0.0, 1.0])\n",
    "plt.ylim([0.0, 1.05])\n",
    "plt.xlabel('False Positive Rate')\n",
    "plt.ylabel('True Positive Rate')\n",
    "plt.title('ROC Graph')\n",
    "plt.legend(loc=\"lower right\")\n",
    "plt.show();"
   ]
  },
  {
   "cell_type": "markdown",
   "metadata": {
    "cell_style": "split",
    "slideshow": {
     "slide_type": "-"
    }
   },
   "source": [
    "<img src=\"confusion_matrix.png\" style=\"width=500px;height:300px\"/>"
   ]
  },
  {
   "cell_type": "code",
   "execution_count": 46,
   "metadata": {
    "scrolled": false,
    "slideshow": {
     "slide_type": "-"
    }
   },
   "outputs": [
    {
     "data": {
      "text/plain": [
       "array([[1741,  545],\n",
       "       [ 153,  561]], dtype=int64)"
      ]
     },
     "execution_count": 46,
     "metadata": {},
     "output_type": "execute_result"
    }
   ],
   "source": [
    "# Confusion Matrix for Logistic Regresion\n",
    "confusion_matrix(y_test, lr.predict(X_test))"
   ]
  },
  {
   "cell_type": "code",
   "execution_count": 47,
   "metadata": {
    "slideshow": {
     "slide_type": "-"
    }
   },
   "outputs": [
    {
     "data": {
      "text/plain": [
       "array([[2220,   66],\n",
       "       [  43,  671]], dtype=int64)"
      ]
     },
     "execution_count": 47,
     "metadata": {},
     "output_type": "execute_result"
    }
   ],
   "source": [
    "# Confusion Matrix for GBC\n",
    "confusion_matrix(y_test, gbc.predict(X_test))"
   ]
  },
  {
   "cell_type": "code",
   "execution_count": 48,
   "metadata": {
    "scrolled": true,
    "slideshow": {
     "slide_type": "-"
    }
   },
   "outputs": [
    {
     "data": {
      "text/plain": [
       "array([[2262,   24],\n",
       "       [  16,  698]], dtype=int64)"
      ]
     },
     "execution_count": 48,
     "metadata": {},
     "output_type": "execute_result"
    }
   ],
   "source": [
    "# Confusion Matrix for Random Forest\n",
    "confusion_matrix(y_test, rf.predict(X_test))"
   ]
  },
  {
   "cell_type": "markdown",
   "metadata": {
    "slideshow": {
     "slide_type": "-"
    }
   },
   "source": [
    "# Recall or Precision?\n",
    "***\n",
    "It depends on how much cost/weight you want on your two types of errors: (1) **False Positives** or (2) **False Negatives**\n",
    "\n",
    "We want our machine learn model to capture as much of the minority class as possible (turnover group). Our objective is to catch ALL of the highly probable turnover employee at the risk of flagging some low-risk non-turnover employee."
   ]
  },
  {
   "cell_type": "markdown",
   "metadata": {
    "cell_style": "split",
    "slideshow": {
     "slide_type": "-"
    }
   },
   "source": [
    "<img src=\"pre_recall.png\"/>"
   ]
  },
  {
   "cell_type": "markdown",
   "metadata": {
    "slideshow": {
     "slide_type": "skip"
    }
   },
   "source": [
    "- Consider employee turnover domain where an employee is given treatment by Human  Resources because they think the employee will leave the company within a month, but the employee actually does not. This is a false positive. This mistake could be expensive, inconvenient, and time consuming for both the Human Resources and employee, but is a good investment for relational growth. \n",
    "\n",
    "\n",
    "- Compare this with the opposite error, where Human Resources does not give treatment/incentives to the employees and they do leave. This is a false negative. This type of error is more detrimental because the company lost an employee, which could lead to great setbacks and more money to rehire. \n",
    "\n",
    "\n",
    "- Depending on these errors, different costs are weighed based on the type of employee being treated. For example, if it’s a high-salary employee then would we need a costlier form of treatment? What if it’s a low-salary employee? The cost for each error is different and should be weighed accordingly. \n",
    "\n",
    "\n",
    "**Optimize Recall When:**\n",
    "- You want to limit **false negatives**\n",
    "- You will get more False Positives\n",
    "- FN > FP\n",
    "- Example: Predicting Cancer Patients or Credit Card Fraud\n",
    "\n",
    "**Optimize Precision When:**\n",
    "- You want to limit **false positives**\n",
    "- FP > FN\n",
    "- Example: Spam VS Not Spam"
   ]
  },
  {
   "cell_type": "markdown",
   "metadata": {
    "slideshow": {
     "slide_type": "slide"
    }
   },
   "source": [
    "<a id='feature_importance'></a>\n",
    "# Feature Importance"
   ]
  },
  {
   "cell_type": "code",
   "execution_count": 49,
   "metadata": {
    "scrolled": false,
    "slideshow": {
     "slide_type": "skip"
    }
   },
   "outputs": [
    {
     "data": {
      "text/html": [
       "<div>\n",
       "<style scoped>\n",
       "    .dataframe tbody tr th:only-of-type {\n",
       "        vertical-align: middle;\n",
       "    }\n",
       "\n",
       "    .dataframe tbody tr th {\n",
       "        vertical-align: top;\n",
       "    }\n",
       "\n",
       "    .dataframe thead th {\n",
       "        text-align: right;\n",
       "    }\n",
       "</style>\n",
       "<table border=\"1\" class=\"dataframe\">\n",
       "  <thead>\n",
       "    <tr style=\"text-align: right;\">\n",
       "      <th></th>\n",
       "      <th>index</th>\n",
       "      <th>importance</th>\n",
       "    </tr>\n",
       "  </thead>\n",
       "  <tbody>\n",
       "    <tr>\n",
       "      <th>0</th>\n",
       "      <td>satisfaction</td>\n",
       "      <td>0.250529</td>\n",
       "    </tr>\n",
       "    <tr>\n",
       "      <th>1</th>\n",
       "      <td>yearsAtCompany</td>\n",
       "      <td>0.236979</td>\n",
       "    </tr>\n",
       "    <tr>\n",
       "      <th>2</th>\n",
       "      <td>averageMonthlyHours</td>\n",
       "      <td>0.163668</td>\n",
       "    </tr>\n",
       "    <tr>\n",
       "      <th>3</th>\n",
       "      <td>projectCount</td>\n",
       "      <td>0.154021</td>\n",
       "    </tr>\n",
       "    <tr>\n",
       "      <th>4</th>\n",
       "      <td>evaluation</td>\n",
       "      <td>0.128582</td>\n",
       "    </tr>\n",
       "    <tr>\n",
       "      <th>5</th>\n",
       "      <td>workAccident</td>\n",
       "      <td>0.025898</td>\n",
       "    </tr>\n",
       "    <tr>\n",
       "      <th>6</th>\n",
       "      <td>salary_low</td>\n",
       "      <td>0.007449</td>\n",
       "    </tr>\n",
       "    <tr>\n",
       "      <th>7</th>\n",
       "      <td>salary_medium</td>\n",
       "      <td>0.005158</td>\n",
       "    </tr>\n",
       "    <tr>\n",
       "      <th>8</th>\n",
       "      <td>department_sales</td>\n",
       "      <td>0.004491</td>\n",
       "    </tr>\n",
       "    <tr>\n",
       "      <th>9</th>\n",
       "      <td>department_technical</td>\n",
       "      <td>0.004062</td>\n",
       "    </tr>\n",
       "    <tr>\n",
       "      <th>10</th>\n",
       "      <td>department_RandD</td>\n",
       "      <td>0.003701</td>\n",
       "    </tr>\n",
       "    <tr>\n",
       "      <th>11</th>\n",
       "      <td>department_support</td>\n",
       "      <td>0.002947</td>\n",
       "    </tr>\n",
       "    <tr>\n",
       "      <th>12</th>\n",
       "      <td>promotion</td>\n",
       "      <td>0.002827</td>\n",
       "    </tr>\n",
       "    <tr>\n",
       "      <th>13</th>\n",
       "      <td>department_management</td>\n",
       "      <td>0.002717</td>\n",
       "    </tr>\n",
       "    <tr>\n",
       "      <th>14</th>\n",
       "      <td>department_product_mng</td>\n",
       "      <td>0.001937</td>\n",
       "    </tr>\n",
       "    <tr>\n",
       "      <th>15</th>\n",
       "      <td>department_accounting</td>\n",
       "      <td>0.001858</td>\n",
       "    </tr>\n",
       "    <tr>\n",
       "      <th>16</th>\n",
       "      <td>department_hr</td>\n",
       "      <td>0.001597</td>\n",
       "    </tr>\n",
       "    <tr>\n",
       "      <th>17</th>\n",
       "      <td>department_marketing</td>\n",
       "      <td>0.001581</td>\n",
       "    </tr>\n",
       "    <tr>\n",
       "      <th>18</th>\n",
       "      <td>salary_nan</td>\n",
       "      <td>0.000000</td>\n",
       "    </tr>\n",
       "    <tr>\n",
       "      <th>19</th>\n",
       "      <td>department_nan</td>\n",
       "      <td>0.000000</td>\n",
       "    </tr>\n",
       "  </tbody>\n",
       "</table>\n",
       "</div>"
      ],
      "text/plain": [
       "                     index  importance\n",
       "0             satisfaction    0.250529\n",
       "1           yearsAtCompany    0.236979\n",
       "2      averageMonthlyHours    0.163668\n",
       "3             projectCount    0.154021\n",
       "4               evaluation    0.128582\n",
       "5             workAccident    0.025898\n",
       "6               salary_low    0.007449\n",
       "7            salary_medium    0.005158\n",
       "8         department_sales    0.004491\n",
       "9     department_technical    0.004062\n",
       "10        department_RandD    0.003701\n",
       "11      department_support    0.002947\n",
       "12               promotion    0.002827\n",
       "13   department_management    0.002717\n",
       "14  department_product_mng    0.001937\n",
       "15   department_accounting    0.001858\n",
       "16           department_hr    0.001597\n",
       "17    department_marketing    0.001581\n",
       "18              salary_nan    0.000000\n",
       "19          department_nan    0.000000"
      ]
     },
     "execution_count": 49,
     "metadata": {},
     "output_type": "execute_result"
    }
   ],
   "source": [
    "# Get Feature Importances\n",
    "feature_importances = pd.DataFrame(rf.feature_importances_,\n",
    "                                   index = x_train_sm.columns,\n",
    "                                    columns=['importance']).sort_values('importance', ascending=False)\n",
    "\n",
    "feature_importances = feature_importances.reset_index()\n",
    "feature_importances"
   ]
  },
  {
   "cell_type": "code",
   "execution_count": 50,
   "metadata": {},
   "outputs": [
    {
     "data": {
      "image/png": "[encoded data removed]",
      "text/plain": [
       "<Figure size 1296x1080 with 1 Axes>"
      ]
     },
     "metadata": {},
     "output_type": "display_data"
    }
   ],
   "source": [
    "sns.set(style=\"whitegrid\")\n",
    "\n",
    "# Initialize the matplotlib figure\n",
    "f, ax = plt.subplots(figsize=(18, 15))\n",
    "\n",
    "# Plot the Feature Importance\n",
    "sns.set_color_codes(\"pastel\")\n",
    "sns.barplot(x=\"importance\", y='index', data=feature_importances,\n",
    "            label=\"Total\", color=\"b\");"
   ]
  },
  {
   "cell_type": "markdown",
   "metadata": {},
   "source": [
    "# Apply Random Noise to Feature Importance"
   ]
  },
  {
   "cell_type": "code",
   "execution_count": 51,
   "metadata": {
    "scrolled": false
   },
   "outputs": [
    {
     "data": {
      "image/png": "[encoded data removed]",
      "text/plain": [
       "<Figure size 1296x1080 with 1 Axes>"
      ]
     },
     "metadata": {},
     "output_type": "display_data"
    }
   ],
   "source": [
    "# Apply Random Noise to data set\n",
    "X_train_rnoise = pd.DataFrame(X_train)\n",
    "X_train_rnoise['RANDOM_NOISE'] = np.random.normal(0, 1, X_train_rnoise.shape[0])\n",
    "\n",
    "# Fit Random Forest to DataSet\n",
    "rf_random = RandomForestClassifier()\n",
    "rf_random = rf_random.fit(X_train_rnoise, y_train)\n",
    "\n",
    "# Get Feature Importances\n",
    "feature_importances_random = pd.DataFrame(rf_random.feature_importances_, index = X_train_rnoise.columns,columns=['importance']).sort_values('importance', ascending=False)\n",
    "feature_importances_random = feature_importances_random.reset_index()\n",
    "\n",
    "# Create Seaborn PLot\n",
    "sns.set(style=\"whitegrid\")\n",
    "# Initialize the matplotlib figure\n",
    "f, ax = plt.subplots(figsize=(18, 15))\n",
    "\n",
    "\n",
    "clrs = ['red' if (x == 5 ) else 'green' for x in feature_importances_random.index.values ]\n",
    "\n",
    "# Plot the Feature Importance\n",
    "sns.barplot(x=\"importance\", y='index', data=feature_importances_random, label=\"Total\",  palette=clrs);"
   ]
  },
  {
   "cell_type": "markdown",
   "metadata": {
    "slideshow": {
     "slide_type": "slide"
    }
   },
   "source": [
    "<a id='retention_plan'></a>\n",
    "# Retention Plan\n",
    "\n",
    "******"
   ]
  },
  {
   "cell_type": "markdown",
   "metadata": {
    "slideshow": {
     "slide_type": "subslide"
    }
   },
   "source": [
    "**Reference:** http://rupeshkhare.com/wp-content/uploads/2013/12/Employee-Attrition-Risk-Assessment-using-Logistic-Regression-Analysis.pdf\n",
    "\n",
    "Since this model is being used for people, we should refrain from soley relying on the output of our model. Instead, we can use it's probability output and design our own system to treat each employee accordingly. \n",
    "\n",
    "1.\t**Safe Zone (Green)** – Employees within this zone are considered safe. \n",
    "2.\t**Low Risk Zone (Yellow)** – Employees within this zone are too be taken into consideration of potential turnover. This is more of a long-term track.\n",
    "3.\t**Medium Risk Zone (Orange)** – Employees within this zone are at risk of turnover. Action should be taken and monitored accordingly. \n",
    "4.\t**High Risk Zone (Red)** – Employees within this zone are considered to have the highest chance of turnover. Action should be taken immediately. "
   ]
  },
  {
   "cell_type": "markdown",
   "metadata": {
    "slideshow": {
     "slide_type": "-"
    }
   },
   "source": [
    "<!-- ![png](employee-retention.png) -->\n",
    "<img src=\"employee-retention.png\" style=\"width=800px;height:600px\"/>"
   ]
  },
  {
   "cell_type": "code",
   "execution_count": 52,
   "metadata": {
    "scrolled": true,
    "slideshow": {
     "slide_type": "-"
    }
   },
   "outputs": [
    {
     "data": {
      "text/plain": [
       "array([[1.  , 0.  ],\n",
       "       [1.  , 0.  ],\n",
       "       [0.96, 0.04],\n",
       "       [0.  , 1.  ],\n",
       "       [0.  , 1.  ],\n",
       "       [0.86, 0.14],\n",
       "       [0.82, 0.18],\n",
       "       [0.  , 1.  ],\n",
       "       [0.1 , 0.9 ],\n",
       "       [0.99, 0.01]])"
      ]
     },
     "execution_count": 52,
     "metadata": {},
     "output_type": "execute_result"
    }
   ],
   "source": [
    "# Ranking turnover probability for employees\n",
    "rf.predict_proba(X_test)[175:185]"
   ]
  },
  {
   "cell_type": "code",
   "execution_count": 53,
   "metadata": {
    "scrolled": true,
    "slideshow": {
     "slide_type": "-"
    }
   },
   "outputs": [
    {
     "data": {
      "text/plain": [
       "[0.0, 0.0, 0.04, 1.0, 1.0, 0.14, 0.18, 1.0, 0.9, 0.01]"
      ]
     },
     "execution_count": 53,
     "metadata": {},
     "output_type": "execute_result"
    }
   ],
   "source": [
    "list(rf.predict_proba(X_test)[175:185, 1])"
   ]
  },
  {
   "cell_type": "code",
   "execution_count": 55,
   "metadata": {
    "scrolled": true,
    "slideshow": {
     "slide_type": "-"
    }
   },
   "outputs": [
    {
     "data": {
      "text/plain": [
       "[False, False, False, True, True, False, False, True, True, False]"
      ]
     },
     "execution_count": 55,
     "metadata": {},
     "output_type": "execute_result"
    }
   ],
   "source": [
    "list(rf.predict_proba(X_test)[175:185, 1] > 0.2)"
   ]
  },
  {
   "cell_type": "markdown",
   "metadata": {
    "slideshow": {
     "slide_type": "slide"
    }
   },
   "source": [
    "# Conclusion\n",
    "\n",
    "******"
   ]
  },
  {
   "cell_type": "markdown",
   "metadata": {
    "slideshow": {
     "slide_type": "subslide"
    }
   },
   "source": [
    "## What to Optimize\n",
    "**Binary Classification**: Turnover V.S. Non Turnover\n",
    "\n",
    "**Instance Scoring**: Likelihood of employee responding to an offer/incentive to save them from leaving.\n",
    "\n",
    "**Need for Application**: Save employees from leaving\n",
    "\n",
    "In our employee retention problem, rather than simply predicting whether an employee will leave the company within a certain time frame, we would much rather have an estimate of the probability that he/she will leave the company. \n",
    "We would rank employees by their probability of leaving, then allocate a limited incentive budget to the highest probability instances. \n",
    "\n",
    "-------------\n",
    " \n",
    " **Solution 1:** \n",
    " - We can rank employees by their probability of leaving, then allocate a limited incentive budget to the highest probability instances.\n",
    " - OR, we can allocate our incentive budget to the instances with the highest expected loss, for which we'll need the probability of turnover.\n",
    "\n",
    "**Solution 2:** \n",
    " - Develop learning programs for managers, then use analytics to gauge their performance and measure progress.\n",
    " - Be a good coach. Empower the team and do not micromanage\n",
    " - Express interest for team member success\n",
    " - Have clear vision / strategy for team\n",
    " - Help team with career development    "
   ]
  },
  {
   "cell_type": "markdown",
   "metadata": {
    "slideshow": {
     "slide_type": "subslide"
    }
   },
   "source": [
    "\n",
    "# Selection Bias\n",
    "***\n",
    "\n",
    "- One thing to note about this dataset is the turnover feature. We don't know if the employees that left are interns, contractors, full-time, or part-time. These are important variables to take into consideration when performing a machine learning algorithm to it. \n",
    "\n",
    "- Another thing to note down is the type of bias of the evaluation feature. Evaluation is heavily subjective, and can vary tremendously depending on who is the evaluator. If the employee knows the evaluator, then he/she will probably have a higher score. "
   ]
  }
 ],
 "metadata": {
  "celltoolbar": "Slideshow",
  "kernelspec": {
   "display_name": "Python 3",
   "language": "python",
   "name": "python3"
  },
  "language_info": {
   "codemirror_mode": {
    "name": "ipython",
    "version": 3
   },
   "file_extension": ".py",
   "mimetype": "text/x-python",
   "name": "python",
   "nbconvert_exporter": "python",
   "pygments_lexer": "ipython3",
   "version": "3.8.5"
  },
  "rise": {
   "autolaunch": true,
   "scroll": true
  }
 },
 "nbformat": 4,
 "nbformat_minor": 4
}
